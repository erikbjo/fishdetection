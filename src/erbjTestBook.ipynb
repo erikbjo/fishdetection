{
 "cells": [
  {
   "cell_type": "code",
   "execution_count": 1,
   "id": "initial_id",
   "metadata": {
    "collapsed": true,
    "ExecuteTime": {
     "end_time": "2024-04-03T10:31:40.798110Z",
     "start_time": "2024-04-03T10:31:33.359009Z"
    }
   },
   "outputs": [],
   "source": [
    "from ultralytics import YOLO\n",
    "import os"
   ]
  },
  {
   "cell_type": "code",
   "outputs": [],
   "source": [
    "#model = YOLO('yolov8n.pt')\n",
    "#model.predict(\n",
    "#   source='https://media.roboflow.com/notebooks/examples/dog.jpeg',\n",
    "#   conf=0.25\n",
    "#)"
   ],
   "metadata": {
    "collapsed": false,
    "ExecuteTime": {
     "end_time": "2024-04-02T09:57:21.415245Z",
     "start_time": "2024-04-02T09:57:21.411597Z"
    }
   },
   "id": "2603a1296fa6b2ae",
   "execution_count": 4
  },
  {
   "cell_type": "code",
   "outputs": [
    {
     "name": "stdout",
     "output_type": "stream",
     "text": [
      "Ultralytics YOLOv8.1.41 🚀 Python-3.10.6 torch-2.2.2 CPU (Intel Core(TM) i5-1038NG7 2.00GHz)\r\n",
      "YOLOv8n summary (fused): 168 layers, 3151904 parameters, 0 gradients, 8.7 GFLOPs\r\n",
      "\r\n",
      "image 1/1 /Users/erik/repos/ComputerVisionProject/img.png: 480x640 (no detections), 151.2ms\r\n",
      "Speed: 14.2ms preprocess, 151.2ms inference, 10.5ms postprocess per image at shape (1, 3, 480, 640)\r\n",
      "Results saved to \u001B[1m/Users/erik/repos/ComputerVisionProject/runs/detect/predict3\u001B[0m\r\n",
      "💡 Learn more at https://docs.ultralytics.com/modes/predict\r\n"
     ]
    }
   ],
   "source": [
    "# !yolo predict model=yolov8n.pt source='/Users/erik/repos/ComputerVisionProject/img.png'"
   ],
   "metadata": {
    "collapsed": false,
    "ExecuteTime": {
     "end_time": "2024-04-02T10:03:46.743538Z",
     "start_time": "2024-04-02T10:03:36.520287Z"
    }
   },
   "id": "e3cd54004e9da5e8",
   "execution_count": 8
  },
  {
   "cell_type": "code",
   "outputs": [],
   "source": [
    "def does_file_exist(file_path):\n",
    "    return os.path.exists(file_path)"
   ],
   "metadata": {
    "collapsed": false,
    "ExecuteTime": {
     "end_time": "2024-04-03T10:31:40.803890Z",
     "start_time": "2024-04-03T10:31:40.799872Z"
    }
   },
   "id": "6c7feb438410f1f",
   "execution_count": 2
  },
  {
   "cell_type": "code",
   "outputs": [],
   "source": [
    "def does_xml_file_contain_track_element(file_path):\n",
    "    with open(file_path, 'r') as file:\n",
    "        data = file.read()\n",
    "        return '<track>' in data"
   ],
   "metadata": {
    "collapsed": false,
    "ExecuteTime": {
     "end_time": "2024-04-03T10:32:31.788561Z",
     "start_time": "2024-04-03T10:32:31.784071Z"
    }
   },
   "id": "da1c59c7c0a30aec",
   "execution_count": 3
  },
  {
   "cell_type": "code",
   "outputs": [],
   "source": [
    "def rename_folder_space_to_underscore(folder_path):\n",
    "    os.rename(folder_path, folder_path.replace(' ', '_'))"
   ],
   "metadata": {
    "collapsed": false,
    "ExecuteTime": {
     "end_time": "2024-04-03T10:33:06.767977Z",
     "start_time": "2024-04-03T10:33:06.764133Z"
    }
   },
   "id": "74f90f667a256c68",
   "execution_count": 4
  },
  {
   "cell_type": "code",
   "outputs": [],
   "source": [
    "for folder in os.listdir('/Users/erik/repos/ComputerVisionProject/data/Annotation'):\n",
    "    folder_path = f'/Users/erik/repos/ComputerVisionProject/data/Annotation/{folder}'\n",
    "    if os.path.isdir(folder_path):\n",
    "        rename_folder_space_to_underscore(folder_path)"
   ],
   "metadata": {
    "collapsed": false,
    "ExecuteTime": {
     "end_time": "2024-04-03T10:35:23.989065Z",
     "start_time": "2024-04-03T10:35:23.983497Z"
    }
   },
   "id": "74ce3d1a0e2a2f28",
   "execution_count": 6
  },
  {
   "cell_type": "code",
   "outputs": [],
   "source": [
    "# Create output to be pasted into yaml file\n",
    "for folder in os.listdir('/Users/erik/repos/ComputerVisionProject/data/Annotation'):\n",
    "    folder_path = f'/Users/erik/repos/ComputerVisionProject/data/Annotation/{folder}'\n",
    "    if os.path.isdir(folder_path):\n",
    "        print(f'  - {folder.replace(\" \", \"_\")}:')\n",
    "        for file in os.listdir(folder_path):\n",
    "            file_path = f'{folder_path}/{file}'\n",
    "            if does_file_exist(file_path) and does_xml_file_contain_track_element(file_path):\n",
    "                print(f'    - {file.replace(\".xml\", \"\")}')"
   ],
   "metadata": {
    "collapsed": false
   },
   "id": "9bad267de9700c9c"
  }
 ],
 "metadata": {
  "kernelspec": {
   "display_name": "Python 3",
   "language": "python",
   "name": "python3"
  },
  "language_info": {
   "codemirror_mode": {
    "name": "ipython",
    "version": 2
   },
   "file_extension": ".py",
   "mimetype": "text/x-python",
   "name": "python",
   "nbconvert_exporter": "python",
   "pygments_lexer": "ipython2",
   "version": "2.7.6"
  }
 },
 "nbformat": 4,
 "nbformat_minor": 5
}
