{
 "cells": [
  {
   "cell_type": "code",
   "execution_count": 1,
   "id": "initial_id",
   "metadata": {
    "collapsed": true,
    "ExecuteTime": {
     "end_time": "2024-04-03T11:21:13.118630Z",
     "start_time": "2024-04-03T11:21:08.713902Z"
    }
   },
   "outputs": [],
   "source": [
    "from ultralytics import YOLO\n",
    "import os\n",
    "import xml.etree.ElementTree as ET"
   ]
  },
  {
   "cell_type": "code",
   "outputs": [],
   "source": [
    "#model = YOLO('yolov8n.pt')\n",
    "#model.predict(\n",
    "#   source='https://media.roboflow.com/notebooks/examples/dog.jpeg',\n",
    "#   conf=0.25\n",
    "#)"
   ],
   "metadata": {
    "collapsed": false,
    "ExecuteTime": {
     "end_time": "2024-04-03T11:21:14.648414Z",
     "start_time": "2024-04-03T11:21:14.644991Z"
    }
   },
   "id": "2603a1296fa6b2ae",
   "execution_count": 2
  },
  {
   "cell_type": "code",
   "outputs": [],
   "source": [
    "# !yolo predict model=yolov8n.pt source='/Users/erik/repos/ComputerVisionProject/img.png'"
   ],
   "metadata": {
    "collapsed": false,
    "ExecuteTime": {
     "end_time": "2024-04-03T11:21:15.115223Z",
     "start_time": "2024-04-03T11:21:15.112281Z"
    }
   },
   "id": "e3cd54004e9da5e8",
   "execution_count": 3
  },
  {
   "cell_type": "code",
   "outputs": [],
   "source": [
    "def does_file_exist(file_path):\n",
    "    return os.path.exists(file_path)"
   ],
   "metadata": {
    "collapsed": false,
    "ExecuteTime": {
     "end_time": "2024-04-03T11:21:15.830528Z",
     "start_time": "2024-04-03T11:21:15.825458Z"
    }
   },
   "id": "6c7feb438410f1f",
   "execution_count": 4
  },
  {
   "cell_type": "code",
   "outputs": [],
   "source": [
    "def does_xml_file_contain_track_element(file_path):\n",
    "    with open(file_path, 'r') as file:\n",
    "        data = file.read()\n",
    "        return '<track' in data"
   ],
   "metadata": {
    "collapsed": false,
    "ExecuteTime": {
     "end_time": "2024-04-03T11:21:16.458554Z",
     "start_time": "2024-04-03T11:21:16.452945Z"
    }
   },
   "id": "da1c59c7c0a30aec",
   "execution_count": 5
  },
  {
   "cell_type": "code",
   "outputs": [],
   "source": [
    "def rename_folder_space_to_underscore(folder_path):\n",
    "    os.rename(folder_path, folder_path.replace(' ', '_'))"
   ],
   "metadata": {
    "collapsed": false,
    "ExecuteTime": {
     "end_time": "2024-04-03T11:21:16.990138Z",
     "start_time": "2024-04-03T11:21:16.986525Z"
    }
   },
   "id": "74f90f667a256c68",
   "execution_count": 6
  },
  {
   "cell_type": "code",
   "outputs": [],
   "source": [
    "for folder in os.listdir('/Users/erik/repos/ComputerVisionProject/data/Annotation'):\n",
    "    folder_path = f'/Users/erik/repos/ComputerVisionProject/data/Annotation/{folder}'\n",
    "    if os.path.isdir(folder_path):\n",
    "        rename_folder_space_to_underscore(folder_path)"
   ],
   "metadata": {
    "collapsed": false,
    "ExecuteTime": {
     "end_time": "2024-04-03T11:21:17.408744Z",
     "start_time": "2024-04-03T11:21:17.403764Z"
    }
   },
   "id": "74ce3d1a0e2a2f28",
   "execution_count": 7
  },
  {
   "cell_type": "code",
   "outputs": [
    {
     "name": "stdout",
     "output_type": "stream",
     "text": [
      "- task_fish_detection-2024_01_28_18_07_53-cvat_for_video_1.1\n"
     ]
    }
   ],
   "source": [
    "# Create output to be pasted into yaml file\n",
    "# - task_fish_detection-2024_02_05_07_51_04-cvat_for_video_1.1\n",
    "for folder in os.listdir('/Users/erik/repos/ComputerVisionProject/data/Annotation'):\n",
    "    folder_path = f'/Users/erik/repos/ComputerVisionProject/data/Annotation/{folder}'\n",
    "    if os.path.isdir(folder_path):\n",
    "        print(f'- {folder}')"
   ],
   "metadata": {
    "collapsed": false,
    "ExecuteTime": {
     "end_time": "2024-04-03T11:21:17.975447Z",
     "start_time": "2024-04-03T11:21:17.970320Z"
    }
   },
   "id": "9bad267de9700c9c",
   "execution_count": 8
  },
  {
   "cell_type": "code",
   "outputs": [],
   "source": [
    "# Create two folders: one with fish and one without fish\n",
    "if not os.path.exists('/Users/erik/repos/ComputerVisionProject/data/fish'):\n",
    "    os.mkdir('/Users/erik/repos/ComputerVisionProject/data/fish')\n",
    "if not os.path.exists('/Users/erik/repos/ComputerVisionProject/data/no_fish'):\n",
    "    os.mkdir('/Users/erik/repos/ComputerVisionProject/data/no_fish')"
   ],
   "metadata": {
    "collapsed": false,
    "ExecuteTime": {
     "end_time": "2024-04-03T11:21:19.242815Z",
     "start_time": "2024-04-03T11:21:19.236959Z"
    }
   },
   "id": "4b10133605055248",
   "execution_count": 9
  },
  {
   "cell_type": "code",
   "outputs": [],
   "source": [
    "# Move folders with fish to fish folder and folders without fish to no_fish folder\n",
    "# for folder in os.listdir('/Users/erik/repos/ComputerVisionProject/data/Annotation'):\n",
    "#     folder_path = f'/Users/erik/repos/ComputerVisionProject/data/Annotation/{folder}'\n",
    "#     if os.path.isdir(folder_path):\n",
    "#         if does_file_exist(f'{folder_path}/annotations.xml') and does_xml_file_contain_track_element(\n",
    "#                 f'{folder_path}/annotations.xml'):\n",
    "#             os.rename(folder_path, f'/Users/erik/repos/ComputerVisionProject/data/fish/{folder}')\n",
    "#         else:\n",
    "#             os.rename(folder_path, f'/Users/erik/repos/ComputerVisionProject/data/no_fish/{folder}')"
   ],
   "metadata": {
    "collapsed": false,
    "ExecuteTime": {
     "end_time": "2024-04-03T11:21:19.790858Z",
     "start_time": "2024-04-03T11:21:19.786764Z"
    }
   },
   "id": "fc1c7e76a9016281",
   "execution_count": 10
  },
  {
   "cell_type": "code",
   "outputs": [],
   "source": [
    "## Example xml:\n",
    "# <track id=\"0\" label=\"SEACHAR\" source=\"manual\">\n",
    "#    <box frame=\"71\" outside=\"0\" occluded=\"0\" keyframe=\"1\" xtl=\"22.83\" ytl=\"718.40\" xbr=\"140.30\" ybr=\"868.50\" z_order=\"0\">\n",
    "#    </box>\n",
    "#    <box frame=\"72\" outside=\"0\" occluded=\"0\" keyframe=\"0\" xtl=\"22.31\" ytl=\"714.45\" xbr=\"158.30\" ybr=\"866.73\" z_order=\"0\">\n",
    "#    </box>\n",
    "#    ...\n",
    "#    <box frame=\"179\" outside=\"0\" occluded=\"0\" keyframe=\"0\" xtl=\"12.53\" ytl=\"510.70\" xbr=\"99.20\" ybr=\"675.10\" z_order=\"0\">\n",
    "#    </box>\n",
    "#    <box frame=\"180\" outside=\"1\" occluded=\"0\" keyframe=\"1\" xtl=\"12.53\" ytl=\"510.70\" xbr=\"99.20\" ybr=\"675.10\" z_order=\"0\">\n",
    "#    </box>\n",
    "# </track>"
   ],
   "metadata": {
    "collapsed": false,
    "ExecuteTime": {
     "end_time": "2024-04-03T11:21:20.398716Z",
     "start_time": "2024-04-03T11:21:20.395419Z"
    }
   },
   "id": "d92fa8deea14214c",
   "execution_count": 11
  },
  {
   "cell_type": "code",
   "outputs": [],
   "source": [
    "def get_file_path_from_frame_number_and_folder_path(folder_path, frame_number):\n",
    "    # Make frame_number be 6 digit with leading zeros\n",
    "    frame_number = str(frame_number).zfill(6)\n",
    "    # folder -> images -> frame_{frame_number}.PNG\n",
    "    file_path = f'{folder_path}/images/frame_{frame_number}.PNG'\n",
    "    if os.path.exists(file_path):\n",
    "        print(\"Found file path: \", file_path)\n",
    "        return file_path\n",
    "    else:\n",
    "        print(\"Did not find file path: \", file_path)\n",
    "        return None"
   ],
   "metadata": {
    "collapsed": false,
    "ExecuteTime": {
     "end_time": "2024-04-03T11:21:37.718419Z",
     "start_time": "2024-04-03T11:21:37.712330Z"
    }
   },
   "id": "fd9c5af9c65a8cee",
   "execution_count": 12
  },
  {
   "cell_type": "code",
   "outputs": [],
   "source": [],
   "metadata": {
    "collapsed": false,
    "ExecuteTime": {
     "end_time": "2024-04-03T11:21:38.137524Z",
     "start_time": "2024-04-03T11:21:38.129990Z"
    }
   },
   "id": "e2a0a5f51a78dd9c",
   "execution_count": 12
  },
  {
   "cell_type": "code",
   "outputs": [],
   "source": [
    "def get_images_with_fish_from_folder_path(folder_path):\n",
    "    images_with_fish = []\n",
    "    annotation_file_path = folder_path + '/annotations.xml'  # Unsafe\n",
    "\n",
    "    try:\n",
    "        tree = ET.parse(annotation_file_path)\n",
    "        root = tree.getroot()\n",
    "\n",
    "        for track in root.findall('track'):\n",
    "            for box in track.findall('box'):\n",
    "                frame_number = int(box.get('frame'))\n",
    "                file_path = get_file_path_from_frame_number_and_folder_path(folder_path, frame_number)\n",
    "                if file_path is not None:\n",
    "                    images_with_fish.append(file_path)\n",
    "\n",
    "    except FileNotFoundError:\n",
    "        print(\"Could not find annotation file.\")\n",
    "    except Exception as e:\n",
    "        print(f\"Error: {e}\")\n",
    "\n",
    "    return images_with_fish"
   ],
   "metadata": {
    "collapsed": false,
    "ExecuteTime": {
     "end_time": "2024-04-03T11:21:38.584280Z",
     "start_time": "2024-04-03T11:21:38.578585Z"
    }
   },
   "id": "e038c8e88acd0dc4",
   "execution_count": 13
  },
  {
   "cell_type": "code",
   "outputs": [
    {
     "name": "stdout",
     "output_type": "stream",
     "text": [
      "Found file path:  /Users/erik/repos/ComputerVisionProject/data/Annotation/task_fish_detection-2024_01_28_18_07_53-cvat_for_video_1.1/images/frame_000071.PNG\n",
      "Found file path:  /Users/erik/repos/ComputerVisionProject/data/Annotation/task_fish_detection-2024_01_28_18_07_53-cvat_for_video_1.1/images/frame_000072.PNG\n",
      "Found file path:  /Users/erik/repos/ComputerVisionProject/data/Annotation/task_fish_detection-2024_01_28_18_07_53-cvat_for_video_1.1/images/frame_000073.PNG\n",
      "Found file path:  /Users/erik/repos/ComputerVisionProject/data/Annotation/task_fish_detection-2024_01_28_18_07_53-cvat_for_video_1.1/images/frame_000074.PNG\n",
      "Found file path:  /Users/erik/repos/ComputerVisionProject/data/Annotation/task_fish_detection-2024_01_28_18_07_53-cvat_for_video_1.1/images/frame_000075.PNG\n",
      "Found file path:  /Users/erik/repos/ComputerVisionProject/data/Annotation/task_fish_detection-2024_01_28_18_07_53-cvat_for_video_1.1/images/frame_000076.PNG\n",
      "Found file path:  /Users/erik/repos/ComputerVisionProject/data/Annotation/task_fish_detection-2024_01_28_18_07_53-cvat_for_video_1.1/images/frame_000077.PNG\n",
      "Found file path:  /Users/erik/repos/ComputerVisionProject/data/Annotation/task_fish_detection-2024_01_28_18_07_53-cvat_for_video_1.1/images/frame_000078.PNG\n",
      "Found file path:  /Users/erik/repos/ComputerVisionProject/data/Annotation/task_fish_detection-2024_01_28_18_07_53-cvat_for_video_1.1/images/frame_000079.PNG\n",
      "Found file path:  /Users/erik/repos/ComputerVisionProject/data/Annotation/task_fish_detection-2024_01_28_18_07_53-cvat_for_video_1.1/images/frame_000080.PNG\n",
      "Found file path:  /Users/erik/repos/ComputerVisionProject/data/Annotation/task_fish_detection-2024_01_28_18_07_53-cvat_for_video_1.1/images/frame_000081.PNG\n",
      "Found file path:  /Users/erik/repos/ComputerVisionProject/data/Annotation/task_fish_detection-2024_01_28_18_07_53-cvat_for_video_1.1/images/frame_000082.PNG\n",
      "Found file path:  /Users/erik/repos/ComputerVisionProject/data/Annotation/task_fish_detection-2024_01_28_18_07_53-cvat_for_video_1.1/images/frame_000083.PNG\n",
      "Found file path:  /Users/erik/repos/ComputerVisionProject/data/Annotation/task_fish_detection-2024_01_28_18_07_53-cvat_for_video_1.1/images/frame_000084.PNG\n",
      "Found file path:  /Users/erik/repos/ComputerVisionProject/data/Annotation/task_fish_detection-2024_01_28_18_07_53-cvat_for_video_1.1/images/frame_000085.PNG\n",
      "Found file path:  /Users/erik/repos/ComputerVisionProject/data/Annotation/task_fish_detection-2024_01_28_18_07_53-cvat_for_video_1.1/images/frame_000086.PNG\n",
      "Found file path:  /Users/erik/repos/ComputerVisionProject/data/Annotation/task_fish_detection-2024_01_28_18_07_53-cvat_for_video_1.1/images/frame_000087.PNG\n",
      "Found file path:  /Users/erik/repos/ComputerVisionProject/data/Annotation/task_fish_detection-2024_01_28_18_07_53-cvat_for_video_1.1/images/frame_000088.PNG\n",
      "Found file path:  /Users/erik/repos/ComputerVisionProject/data/Annotation/task_fish_detection-2024_01_28_18_07_53-cvat_for_video_1.1/images/frame_000089.PNG\n",
      "Found file path:  /Users/erik/repos/ComputerVisionProject/data/Annotation/task_fish_detection-2024_01_28_18_07_53-cvat_for_video_1.1/images/frame_000090.PNG\n",
      "Found file path:  /Users/erik/repos/ComputerVisionProject/data/Annotation/task_fish_detection-2024_01_28_18_07_53-cvat_for_video_1.1/images/frame_000091.PNG\n",
      "Found file path:  /Users/erik/repos/ComputerVisionProject/data/Annotation/task_fish_detection-2024_01_28_18_07_53-cvat_for_video_1.1/images/frame_000092.PNG\n",
      "Found file path:  /Users/erik/repos/ComputerVisionProject/data/Annotation/task_fish_detection-2024_01_28_18_07_53-cvat_for_video_1.1/images/frame_000093.PNG\n",
      "Found file path:  /Users/erik/repos/ComputerVisionProject/data/Annotation/task_fish_detection-2024_01_28_18_07_53-cvat_for_video_1.1/images/frame_000094.PNG\n",
      "Found file path:  /Users/erik/repos/ComputerVisionProject/data/Annotation/task_fish_detection-2024_01_28_18_07_53-cvat_for_video_1.1/images/frame_000095.PNG\n",
      "Found file path:  /Users/erik/repos/ComputerVisionProject/data/Annotation/task_fish_detection-2024_01_28_18_07_53-cvat_for_video_1.1/images/frame_000096.PNG\n",
      "Found file path:  /Users/erik/repos/ComputerVisionProject/data/Annotation/task_fish_detection-2024_01_28_18_07_53-cvat_for_video_1.1/images/frame_000097.PNG\n",
      "Found file path:  /Users/erik/repos/ComputerVisionProject/data/Annotation/task_fish_detection-2024_01_28_18_07_53-cvat_for_video_1.1/images/frame_000098.PNG\n",
      "Found file path:  /Users/erik/repos/ComputerVisionProject/data/Annotation/task_fish_detection-2024_01_28_18_07_53-cvat_for_video_1.1/images/frame_000099.PNG\n",
      "Found file path:  /Users/erik/repos/ComputerVisionProject/data/Annotation/task_fish_detection-2024_01_28_18_07_53-cvat_for_video_1.1/images/frame_000100.PNG\n",
      "Found file path:  /Users/erik/repos/ComputerVisionProject/data/Annotation/task_fish_detection-2024_01_28_18_07_53-cvat_for_video_1.1/images/frame_000101.PNG\n",
      "Found file path:  /Users/erik/repos/ComputerVisionProject/data/Annotation/task_fish_detection-2024_01_28_18_07_53-cvat_for_video_1.1/images/frame_000102.PNG\n",
      "Found file path:  /Users/erik/repos/ComputerVisionProject/data/Annotation/task_fish_detection-2024_01_28_18_07_53-cvat_for_video_1.1/images/frame_000103.PNG\n",
      "Found file path:  /Users/erik/repos/ComputerVisionProject/data/Annotation/task_fish_detection-2024_01_28_18_07_53-cvat_for_video_1.1/images/frame_000104.PNG\n",
      "Found file path:  /Users/erik/repos/ComputerVisionProject/data/Annotation/task_fish_detection-2024_01_28_18_07_53-cvat_for_video_1.1/images/frame_000105.PNG\n",
      "Found file path:  /Users/erik/repos/ComputerVisionProject/data/Annotation/task_fish_detection-2024_01_28_18_07_53-cvat_for_video_1.1/images/frame_000106.PNG\n",
      "Found file path:  /Users/erik/repos/ComputerVisionProject/data/Annotation/task_fish_detection-2024_01_28_18_07_53-cvat_for_video_1.1/images/frame_000107.PNG\n",
      "Found file path:  /Users/erik/repos/ComputerVisionProject/data/Annotation/task_fish_detection-2024_01_28_18_07_53-cvat_for_video_1.1/images/frame_000108.PNG\n",
      "Found file path:  /Users/erik/repos/ComputerVisionProject/data/Annotation/task_fish_detection-2024_01_28_18_07_53-cvat_for_video_1.1/images/frame_000109.PNG\n",
      "Found file path:  /Users/erik/repos/ComputerVisionProject/data/Annotation/task_fish_detection-2024_01_28_18_07_53-cvat_for_video_1.1/images/frame_000110.PNG\n",
      "Found file path:  /Users/erik/repos/ComputerVisionProject/data/Annotation/task_fish_detection-2024_01_28_18_07_53-cvat_for_video_1.1/images/frame_000111.PNG\n",
      "Found file path:  /Users/erik/repos/ComputerVisionProject/data/Annotation/task_fish_detection-2024_01_28_18_07_53-cvat_for_video_1.1/images/frame_000112.PNG\n",
      "Found file path:  /Users/erik/repos/ComputerVisionProject/data/Annotation/task_fish_detection-2024_01_28_18_07_53-cvat_for_video_1.1/images/frame_000113.PNG\n",
      "Found file path:  /Users/erik/repos/ComputerVisionProject/data/Annotation/task_fish_detection-2024_01_28_18_07_53-cvat_for_video_1.1/images/frame_000114.PNG\n",
      "Found file path:  /Users/erik/repos/ComputerVisionProject/data/Annotation/task_fish_detection-2024_01_28_18_07_53-cvat_for_video_1.1/images/frame_000115.PNG\n",
      "Found file path:  /Users/erik/repos/ComputerVisionProject/data/Annotation/task_fish_detection-2024_01_28_18_07_53-cvat_for_video_1.1/images/frame_000116.PNG\n",
      "Found file path:  /Users/erik/repos/ComputerVisionProject/data/Annotation/task_fish_detection-2024_01_28_18_07_53-cvat_for_video_1.1/images/frame_000117.PNG\n",
      "Found file path:  /Users/erik/repos/ComputerVisionProject/data/Annotation/task_fish_detection-2024_01_28_18_07_53-cvat_for_video_1.1/images/frame_000118.PNG\n",
      "Found file path:  /Users/erik/repos/ComputerVisionProject/data/Annotation/task_fish_detection-2024_01_28_18_07_53-cvat_for_video_1.1/images/frame_000119.PNG\n",
      "Found file path:  /Users/erik/repos/ComputerVisionProject/data/Annotation/task_fish_detection-2024_01_28_18_07_53-cvat_for_video_1.1/images/frame_000120.PNG\n",
      "Found file path:  /Users/erik/repos/ComputerVisionProject/data/Annotation/task_fish_detection-2024_01_28_18_07_53-cvat_for_video_1.1/images/frame_000121.PNG\n",
      "Found file path:  /Users/erik/repos/ComputerVisionProject/data/Annotation/task_fish_detection-2024_01_28_18_07_53-cvat_for_video_1.1/images/frame_000122.PNG\n",
      "Found file path:  /Users/erik/repos/ComputerVisionProject/data/Annotation/task_fish_detection-2024_01_28_18_07_53-cvat_for_video_1.1/images/frame_000123.PNG\n",
      "Found file path:  /Users/erik/repos/ComputerVisionProject/data/Annotation/task_fish_detection-2024_01_28_18_07_53-cvat_for_video_1.1/images/frame_000124.PNG\n",
      "Found file path:  /Users/erik/repos/ComputerVisionProject/data/Annotation/task_fish_detection-2024_01_28_18_07_53-cvat_for_video_1.1/images/frame_000125.PNG\n",
      "Found file path:  /Users/erik/repos/ComputerVisionProject/data/Annotation/task_fish_detection-2024_01_28_18_07_53-cvat_for_video_1.1/images/frame_000126.PNG\n",
      "Found file path:  /Users/erik/repos/ComputerVisionProject/data/Annotation/task_fish_detection-2024_01_28_18_07_53-cvat_for_video_1.1/images/frame_000127.PNG\n",
      "Found file path:  /Users/erik/repos/ComputerVisionProject/data/Annotation/task_fish_detection-2024_01_28_18_07_53-cvat_for_video_1.1/images/frame_000128.PNG\n",
      "Found file path:  /Users/erik/repos/ComputerVisionProject/data/Annotation/task_fish_detection-2024_01_28_18_07_53-cvat_for_video_1.1/images/frame_000129.PNG\n",
      "Found file path:  /Users/erik/repos/ComputerVisionProject/data/Annotation/task_fish_detection-2024_01_28_18_07_53-cvat_for_video_1.1/images/frame_000130.PNG\n",
      "Found file path:  /Users/erik/repos/ComputerVisionProject/data/Annotation/task_fish_detection-2024_01_28_18_07_53-cvat_for_video_1.1/images/frame_000131.PNG\n",
      "Found file path:  /Users/erik/repos/ComputerVisionProject/data/Annotation/task_fish_detection-2024_01_28_18_07_53-cvat_for_video_1.1/images/frame_000132.PNG\n",
      "Found file path:  /Users/erik/repos/ComputerVisionProject/data/Annotation/task_fish_detection-2024_01_28_18_07_53-cvat_for_video_1.1/images/frame_000133.PNG\n",
      "Found file path:  /Users/erik/repos/ComputerVisionProject/data/Annotation/task_fish_detection-2024_01_28_18_07_53-cvat_for_video_1.1/images/frame_000134.PNG\n",
      "Found file path:  /Users/erik/repos/ComputerVisionProject/data/Annotation/task_fish_detection-2024_01_28_18_07_53-cvat_for_video_1.1/images/frame_000135.PNG\n",
      "Found file path:  /Users/erik/repos/ComputerVisionProject/data/Annotation/task_fish_detection-2024_01_28_18_07_53-cvat_for_video_1.1/images/frame_000136.PNG\n",
      "Found file path:  /Users/erik/repos/ComputerVisionProject/data/Annotation/task_fish_detection-2024_01_28_18_07_53-cvat_for_video_1.1/images/frame_000137.PNG\n",
      "Found file path:  /Users/erik/repos/ComputerVisionProject/data/Annotation/task_fish_detection-2024_01_28_18_07_53-cvat_for_video_1.1/images/frame_000138.PNG\n",
      "Found file path:  /Users/erik/repos/ComputerVisionProject/data/Annotation/task_fish_detection-2024_01_28_18_07_53-cvat_for_video_1.1/images/frame_000139.PNG\n",
      "Found file path:  /Users/erik/repos/ComputerVisionProject/data/Annotation/task_fish_detection-2024_01_28_18_07_53-cvat_for_video_1.1/images/frame_000140.PNG\n",
      "Found file path:  /Users/erik/repos/ComputerVisionProject/data/Annotation/task_fish_detection-2024_01_28_18_07_53-cvat_for_video_1.1/images/frame_000141.PNG\n",
      "Found file path:  /Users/erik/repos/ComputerVisionProject/data/Annotation/task_fish_detection-2024_01_28_18_07_53-cvat_for_video_1.1/images/frame_000142.PNG\n",
      "Found file path:  /Users/erik/repos/ComputerVisionProject/data/Annotation/task_fish_detection-2024_01_28_18_07_53-cvat_for_video_1.1/images/frame_000143.PNG\n",
      "Found file path:  /Users/erik/repos/ComputerVisionProject/data/Annotation/task_fish_detection-2024_01_28_18_07_53-cvat_for_video_1.1/images/frame_000144.PNG\n",
      "Found file path:  /Users/erik/repos/ComputerVisionProject/data/Annotation/task_fish_detection-2024_01_28_18_07_53-cvat_for_video_1.1/images/frame_000145.PNG\n",
      "Found file path:  /Users/erik/repos/ComputerVisionProject/data/Annotation/task_fish_detection-2024_01_28_18_07_53-cvat_for_video_1.1/images/frame_000146.PNG\n",
      "Found file path:  /Users/erik/repos/ComputerVisionProject/data/Annotation/task_fish_detection-2024_01_28_18_07_53-cvat_for_video_1.1/images/frame_000147.PNG\n",
      "Found file path:  /Users/erik/repos/ComputerVisionProject/data/Annotation/task_fish_detection-2024_01_28_18_07_53-cvat_for_video_1.1/images/frame_000148.PNG\n",
      "Found file path:  /Users/erik/repos/ComputerVisionProject/data/Annotation/task_fish_detection-2024_01_28_18_07_53-cvat_for_video_1.1/images/frame_000149.PNG\n",
      "Found file path:  /Users/erik/repos/ComputerVisionProject/data/Annotation/task_fish_detection-2024_01_28_18_07_53-cvat_for_video_1.1/images/frame_000150.PNG\n",
      "Found file path:  /Users/erik/repos/ComputerVisionProject/data/Annotation/task_fish_detection-2024_01_28_18_07_53-cvat_for_video_1.1/images/frame_000151.PNG\n",
      "Found file path:  /Users/erik/repos/ComputerVisionProject/data/Annotation/task_fish_detection-2024_01_28_18_07_53-cvat_for_video_1.1/images/frame_000152.PNG\n",
      "Found file path:  /Users/erik/repos/ComputerVisionProject/data/Annotation/task_fish_detection-2024_01_28_18_07_53-cvat_for_video_1.1/images/frame_000153.PNG\n",
      "Found file path:  /Users/erik/repos/ComputerVisionProject/data/Annotation/task_fish_detection-2024_01_28_18_07_53-cvat_for_video_1.1/images/frame_000154.PNG\n",
      "Found file path:  /Users/erik/repos/ComputerVisionProject/data/Annotation/task_fish_detection-2024_01_28_18_07_53-cvat_for_video_1.1/images/frame_000155.PNG\n",
      "Found file path:  /Users/erik/repos/ComputerVisionProject/data/Annotation/task_fish_detection-2024_01_28_18_07_53-cvat_for_video_1.1/images/frame_000156.PNG\n",
      "Found file path:  /Users/erik/repos/ComputerVisionProject/data/Annotation/task_fish_detection-2024_01_28_18_07_53-cvat_for_video_1.1/images/frame_000157.PNG\n",
      "Found file path:  /Users/erik/repos/ComputerVisionProject/data/Annotation/task_fish_detection-2024_01_28_18_07_53-cvat_for_video_1.1/images/frame_000158.PNG\n",
      "Found file path:  /Users/erik/repos/ComputerVisionProject/data/Annotation/task_fish_detection-2024_01_28_18_07_53-cvat_for_video_1.1/images/frame_000159.PNG\n",
      "Found file path:  /Users/erik/repos/ComputerVisionProject/data/Annotation/task_fish_detection-2024_01_28_18_07_53-cvat_for_video_1.1/images/frame_000160.PNG\n",
      "Found file path:  /Users/erik/repos/ComputerVisionProject/data/Annotation/task_fish_detection-2024_01_28_18_07_53-cvat_for_video_1.1/images/frame_000161.PNG\n",
      "Found file path:  /Users/erik/repos/ComputerVisionProject/data/Annotation/task_fish_detection-2024_01_28_18_07_53-cvat_for_video_1.1/images/frame_000162.PNG\n",
      "Found file path:  /Users/erik/repos/ComputerVisionProject/data/Annotation/task_fish_detection-2024_01_28_18_07_53-cvat_for_video_1.1/images/frame_000163.PNG\n",
      "Found file path:  /Users/erik/repos/ComputerVisionProject/data/Annotation/task_fish_detection-2024_01_28_18_07_53-cvat_for_video_1.1/images/frame_000164.PNG\n",
      "Found file path:  /Users/erik/repos/ComputerVisionProject/data/Annotation/task_fish_detection-2024_01_28_18_07_53-cvat_for_video_1.1/images/frame_000165.PNG\n",
      "Found file path:  /Users/erik/repos/ComputerVisionProject/data/Annotation/task_fish_detection-2024_01_28_18_07_53-cvat_for_video_1.1/images/frame_000166.PNG\n",
      "Found file path:  /Users/erik/repos/ComputerVisionProject/data/Annotation/task_fish_detection-2024_01_28_18_07_53-cvat_for_video_1.1/images/frame_000167.PNG\n",
      "Found file path:  /Users/erik/repos/ComputerVisionProject/data/Annotation/task_fish_detection-2024_01_28_18_07_53-cvat_for_video_1.1/images/frame_000168.PNG\n",
      "Found file path:  /Users/erik/repos/ComputerVisionProject/data/Annotation/task_fish_detection-2024_01_28_18_07_53-cvat_for_video_1.1/images/frame_000169.PNG\n",
      "Found file path:  /Users/erik/repos/ComputerVisionProject/data/Annotation/task_fish_detection-2024_01_28_18_07_53-cvat_for_video_1.1/images/frame_000170.PNG\n",
      "Found file path:  /Users/erik/repos/ComputerVisionProject/data/Annotation/task_fish_detection-2024_01_28_18_07_53-cvat_for_video_1.1/images/frame_000171.PNG\n",
      "Found file path:  /Users/erik/repos/ComputerVisionProject/data/Annotation/task_fish_detection-2024_01_28_18_07_53-cvat_for_video_1.1/images/frame_000172.PNG\n",
      "Found file path:  /Users/erik/repos/ComputerVisionProject/data/Annotation/task_fish_detection-2024_01_28_18_07_53-cvat_for_video_1.1/images/frame_000173.PNG\n",
      "Found file path:  /Users/erik/repos/ComputerVisionProject/data/Annotation/task_fish_detection-2024_01_28_18_07_53-cvat_for_video_1.1/images/frame_000174.PNG\n",
      "Found file path:  /Users/erik/repos/ComputerVisionProject/data/Annotation/task_fish_detection-2024_01_28_18_07_53-cvat_for_video_1.1/images/frame_000175.PNG\n",
      "Found file path:  /Users/erik/repos/ComputerVisionProject/data/Annotation/task_fish_detection-2024_01_28_18_07_53-cvat_for_video_1.1/images/frame_000176.PNG\n",
      "Found file path:  /Users/erik/repos/ComputerVisionProject/data/Annotation/task_fish_detection-2024_01_28_18_07_53-cvat_for_video_1.1/images/frame_000177.PNG\n",
      "Found file path:  /Users/erik/repos/ComputerVisionProject/data/Annotation/task_fish_detection-2024_01_28_18_07_53-cvat_for_video_1.1/images/frame_000178.PNG\n",
      "Found file path:  /Users/erik/repos/ComputerVisionProject/data/Annotation/task_fish_detection-2024_01_28_18_07_53-cvat_for_video_1.1/images/frame_000179.PNG\n",
      "Found file path:  /Users/erik/repos/ComputerVisionProject/data/Annotation/task_fish_detection-2024_01_28_18_07_53-cvat_for_video_1.1/images/frame_000180.PNG\n"
     ]
    }
   ],
   "source": [
    "# Move images with fish to fish folder and remove images without fish\n",
    "for folder in os.listdir('/Users/erik/repos/ComputerVisionProject/data/Annotation'):\n",
    "    folder_path = f'/Users/erik/repos/ComputerVisionProject/data/Annotation/{folder}'\n",
    "    if os.path.isdir(folder_path):\n",
    "        images_file_paths_with_fish = get_images_with_fish_from_folder_path(folder_path)\n",
    "        for image_path in images_file_paths_with_fish:\n",
    "            os.rename(image_path, f'/Users/erik/repos/ComputerVisionProject/data/fish/{image_path.split(\"/\")[-1]}')"
   ],
   "metadata": {
    "collapsed": false,
    "ExecuteTime": {
     "end_time": "2024-04-03T11:21:43.585729Z",
     "start_time": "2024-04-03T11:21:43.555691Z"
    }
   },
   "id": "d5ab66855c63d69d",
   "execution_count": 14
  },
  {
   "cell_type": "code",
   "outputs": [],
   "source": [
    "# Move remaining images to no_fish folder\n",
    "for folder in os.listdir('/Users/erik/repos/ComputerVisionProject/data/Annotation'):\n",
    "    folder_path = f'/Users/erik/repos/ComputerVisionProject/data/Annotation/{folder}'\n",
    "    if os.path.isdir(folder_path):\n",
    "        for image in os.listdir(f'{folder_path}/images'):\n",
    "            os.rename(f'{folder_path}/images/{image}', f'/Users/erik/repos/ComputerVisionProject/data/no_fish/{image}')"
   ],
   "metadata": {
    "collapsed": false,
    "ExecuteTime": {
     "end_time": "2024-04-03T11:34:09.406445Z",
     "start_time": "2024-04-03T11:34:09.347140Z"
    }
   },
   "id": "315c4890bc4f2183",
   "execution_count": 15
  },
  {
   "cell_type": "code",
   "outputs": [
    {
     "name": "stdout",
     "output_type": "stream",
     "text": [
      "New https://pypi.org/project/ultralytics/8.1.42 available 😃 Update with 'pip install -U ultralytics'\n",
      "Ultralytics YOLOv8.1.41 🚀 Python-3.10.6 torch-2.2.2 CPU (Intel Core(TM) i5-1038NG7 2.00GHz)\n",
      "\u001B[34m\u001B[1mengine/trainer: \u001B[0mtask=detect, mode=train, model=yolov8n.yaml, data=../nemoV1.yaml, epochs=1, time=None, patience=100, batch=16, imgsz=640, save=True, save_period=-1, cache=False, device=None, workers=8, project=None, name=train7, exist_ok=False, pretrained=True, optimizer=auto, verbose=True, seed=0, deterministic=True, single_cls=False, rect=False, cos_lr=False, close_mosaic=10, resume=False, amp=True, fraction=1.0, profile=False, freeze=None, multi_scale=False, overlap_mask=True, mask_ratio=4, dropout=0.0, val=True, split=val, save_json=False, save_hybrid=False, conf=None, iou=0.7, max_det=300, half=False, dnn=False, plots=True, source=None, vid_stride=1, stream_buffer=False, visualize=False, augment=False, agnostic_nms=False, classes=None, retina_masks=False, embed=None, show=False, save_frames=False, save_txt=False, save_conf=False, save_crop=False, show_labels=True, show_conf=True, show_boxes=True, line_width=None, format=torchscript, keras=False, optimize=False, int8=False, dynamic=False, simplify=False, opset=None, workspace=4, nms=False, lr0=0.01, lrf=0.01, momentum=0.937, weight_decay=0.0005, warmup_epochs=3.0, warmup_momentum=0.8, warmup_bias_lr=0.1, box=7.5, cls=0.5, dfl=1.5, pose=12.0, kobj=1.0, label_smoothing=0.0, nbs=64, hsv_h=0.015, hsv_s=0.7, hsv_v=0.4, degrees=0.0, translate=0.1, scale=0.5, shear=0.0, perspective=0.0, flipud=0.0, fliplr=0.5, bgr=0.0, mosaic=1.0, mixup=0.0, copy_paste=0.0, auto_augment=randaugment, erasing=0.4, crop_fraction=1.0, cfg=None, tracker=botsort.yaml, save_dir=/Users/erik/repos/ComputerVisionProject/runs/detect/train7\n",
      "Overriding model.yaml nc=80 with nc=2\n",
      "\n",
      "                   from  n    params  module                                       arguments                     \n",
      "  0                  -1  1       464  ultralytics.nn.modules.conv.Conv             [3, 16, 3, 2]                 \n",
      "  1                  -1  1      4672  ultralytics.nn.modules.conv.Conv             [16, 32, 3, 2]                \n",
      "  2                  -1  1      7360  ultralytics.nn.modules.block.C2f             [32, 32, 1, True]             \n",
      "  3                  -1  1     18560  ultralytics.nn.modules.conv.Conv             [32, 64, 3, 2]                \n",
      "  4                  -1  2     49664  ultralytics.nn.modules.block.C2f             [64, 64, 2, True]             \n",
      "  5                  -1  1     73984  ultralytics.nn.modules.conv.Conv             [64, 128, 3, 2]               \n",
      "  6                  -1  2    197632  ultralytics.nn.modules.block.C2f             [128, 128, 2, True]           \n",
      "  7                  -1  1    295424  ultralytics.nn.modules.conv.Conv             [128, 256, 3, 2]              \n",
      "  8                  -1  1    460288  ultralytics.nn.modules.block.C2f             [256, 256, 1, True]           \n",
      "  9                  -1  1    164608  ultralytics.nn.modules.block.SPPF            [256, 256, 5]                 \n",
      " 10                  -1  1         0  torch.nn.modules.upsampling.Upsample         [None, 2, 'nearest']          \n",
      " 11             [-1, 6]  1         0  ultralytics.nn.modules.conv.Concat           [1]                           \n",
      " 12                  -1  1    148224  ultralytics.nn.modules.block.C2f             [384, 128, 1]                 \n",
      " 13                  -1  1         0  torch.nn.modules.upsampling.Upsample         [None, 2, 'nearest']          \n",
      " 14             [-1, 4]  1         0  ultralytics.nn.modules.conv.Concat           [1]                           \n",
      " 15                  -1  1     37248  ultralytics.nn.modules.block.C2f             [192, 64, 1]                  \n",
      " 16                  -1  1     36992  ultralytics.nn.modules.conv.Conv             [64, 64, 3, 2]                \n",
      " 17            [-1, 12]  1         0  ultralytics.nn.modules.conv.Concat           [1]                           \n",
      " 18                  -1  1    123648  ultralytics.nn.modules.block.C2f             [192, 128, 1]                 \n",
      " 19                  -1  1    147712  ultralytics.nn.modules.conv.Conv             [128, 128, 3, 2]              \n",
      " 20             [-1, 9]  1         0  ultralytics.nn.modules.conv.Concat           [1]                           \n",
      " 21                  -1  1    493056  ultralytics.nn.modules.block.C2f             [384, 256, 1]                 \n",
      " 22        [15, 18, 21]  1    751702  ultralytics.nn.modules.head.Detect           [2, [64, 128, 256]]           \n",
      "YOLOv8n summary: 225 layers, 3011238 parameters, 3011222 gradients, 8.2 GFLOPs\n",
      "\n",
      "Freezing layer 'model.22.dfl.conv.weight'\n"
     ]
    },
    {
     "ename": "FileNotFoundError",
     "evalue": "\u001B[34m\u001B[1mtrain: \u001B[0mError loading data from ['/Users/erik/repos/data/fish', '/Users/erik/repos/data/no_fish']\nSee https://docs.ultralytics.com/datasets/detect for dataset formatting guidance.",
     "output_type": "error",
     "traceback": [
      "\u001B[0;31m---------------------------------------------------------------------------\u001B[0m",
      "\u001B[0;31mFileNotFoundError\u001B[0m                         Traceback (most recent call last)",
      "File \u001B[0;32m~/repos/ComputerVisionProject/.venv/lib/python3.10/site-packages/ultralytics/data/base.py:118\u001B[0m, in \u001B[0;36mBaseDataset.get_img_files\u001B[0;34m(self, img_path)\u001B[0m\n\u001B[1;32m    116\u001B[0m             \u001B[38;5;66;03m# F += [p.parent / x.lstrip(os.sep) for x in t]  # local to global path (pathlib)\u001B[39;00m\n\u001B[1;32m    117\u001B[0m     \u001B[38;5;28;01melse\u001B[39;00m:\n\u001B[0;32m--> 118\u001B[0m         \u001B[38;5;28;01mraise\u001B[39;00m \u001B[38;5;167;01mFileNotFoundError\u001B[39;00m(\u001B[38;5;124mf\u001B[39m\u001B[38;5;124m\"\u001B[39m\u001B[38;5;132;01m{\u001B[39;00m\u001B[38;5;28mself\u001B[39m\u001B[38;5;241m.\u001B[39mprefix\u001B[38;5;132;01m}\u001B[39;00m\u001B[38;5;132;01m{\u001B[39;00mp\u001B[38;5;132;01m}\u001B[39;00m\u001B[38;5;124m does not exist\u001B[39m\u001B[38;5;124m\"\u001B[39m)\n\u001B[1;32m    119\u001B[0m im_files \u001B[38;5;241m=\u001B[39m \u001B[38;5;28msorted\u001B[39m(x\u001B[38;5;241m.\u001B[39mreplace(\u001B[38;5;124m\"\u001B[39m\u001B[38;5;124m/\u001B[39m\u001B[38;5;124m\"\u001B[39m, os\u001B[38;5;241m.\u001B[39msep) \u001B[38;5;28;01mfor\u001B[39;00m x \u001B[38;5;129;01min\u001B[39;00m f \u001B[38;5;28;01mif\u001B[39;00m x\u001B[38;5;241m.\u001B[39msplit(\u001B[38;5;124m\"\u001B[39m\u001B[38;5;124m.\u001B[39m\u001B[38;5;124m\"\u001B[39m)[\u001B[38;5;241m-\u001B[39m\u001B[38;5;241m1\u001B[39m]\u001B[38;5;241m.\u001B[39mlower() \u001B[38;5;129;01min\u001B[39;00m IMG_FORMATS)\n",
      "\u001B[0;31mFileNotFoundError\u001B[0m: \u001B[34m\u001B[1mtrain: \u001B[0m/Users/erik/repos/data/fish does not exist",
      "\nThe above exception was the direct cause of the following exception:\n",
      "\u001B[0;31mFileNotFoundError\u001B[0m                         Traceback (most recent call last)",
      "Cell \u001B[0;32mIn[22], line 4\u001B[0m\n\u001B[1;32m      1\u001B[0m model \u001B[38;5;241m=\u001B[39m YOLO(\u001B[38;5;124m\"\u001B[39m\u001B[38;5;124myolov8n.yaml\u001B[39m\u001B[38;5;124m\"\u001B[39m)\n\u001B[1;32m      3\u001B[0m \u001B[38;5;66;03m# Train the model\u001B[39;00m\n\u001B[0;32m----> 4\u001B[0m \u001B[43mmodel\u001B[49m\u001B[38;5;241;43m.\u001B[39;49m\u001B[43mtrain\u001B[49m\u001B[43m(\u001B[49m\u001B[43mdata\u001B[49m\u001B[38;5;241;43m=\u001B[39;49m\u001B[38;5;124;43m\"\u001B[39;49m\u001B[38;5;124;43m../nemoV1.yaml\u001B[39;49m\u001B[38;5;124;43m\"\u001B[39;49m\u001B[43m,\u001B[49m\u001B[43m \u001B[49m\u001B[43mepochs\u001B[49m\u001B[38;5;241;43m=\u001B[39;49m\u001B[38;5;241;43m1\u001B[39;49m\u001B[43m)\u001B[49m\n",
      "File \u001B[0;32m~/repos/ComputerVisionProject/.venv/lib/python3.10/site-packages/ultralytics/engine/model.py:667\u001B[0m, in \u001B[0;36mModel.train\u001B[0;34m(self, trainer, **kwargs)\u001B[0m\n\u001B[1;32m    664\u001B[0m             \u001B[38;5;28;01mpass\u001B[39;00m\n\u001B[1;32m    666\u001B[0m \u001B[38;5;28mself\u001B[39m\u001B[38;5;241m.\u001B[39mtrainer\u001B[38;5;241m.\u001B[39mhub_session \u001B[38;5;241m=\u001B[39m \u001B[38;5;28mself\u001B[39m\u001B[38;5;241m.\u001B[39msession  \u001B[38;5;66;03m# attach optional HUB session\u001B[39;00m\n\u001B[0;32m--> 667\u001B[0m \u001B[38;5;28;43mself\u001B[39;49m\u001B[38;5;241;43m.\u001B[39;49m\u001B[43mtrainer\u001B[49m\u001B[38;5;241;43m.\u001B[39;49m\u001B[43mtrain\u001B[49m\u001B[43m(\u001B[49m\u001B[43m)\u001B[49m\n\u001B[1;32m    668\u001B[0m \u001B[38;5;66;03m# Update model and cfg after training\u001B[39;00m\n\u001B[1;32m    669\u001B[0m \u001B[38;5;28;01mif\u001B[39;00m RANK \u001B[38;5;129;01min\u001B[39;00m {\u001B[38;5;241m-\u001B[39m\u001B[38;5;241m1\u001B[39m, \u001B[38;5;241m0\u001B[39m}:\n",
      "File \u001B[0;32m~/repos/ComputerVisionProject/.venv/lib/python3.10/site-packages/ultralytics/engine/trainer.py:198\u001B[0m, in \u001B[0;36mBaseTrainer.train\u001B[0;34m(self)\u001B[0m\n\u001B[1;32m    195\u001B[0m         ddp_cleanup(\u001B[38;5;28mself\u001B[39m, \u001B[38;5;28mstr\u001B[39m(file))\n\u001B[1;32m    197\u001B[0m \u001B[38;5;28;01melse\u001B[39;00m:\n\u001B[0;32m--> 198\u001B[0m     \u001B[38;5;28;43mself\u001B[39;49m\u001B[38;5;241;43m.\u001B[39;49m\u001B[43m_do_train\u001B[49m\u001B[43m(\u001B[49m\u001B[43mworld_size\u001B[49m\u001B[43m)\u001B[49m\n",
      "File \u001B[0;32m~/repos/ComputerVisionProject/.venv/lib/python3.10/site-packages/ultralytics/engine/trainer.py:312\u001B[0m, in \u001B[0;36mBaseTrainer._do_train\u001B[0;34m(self, world_size)\u001B[0m\n\u001B[1;32m    310\u001B[0m \u001B[38;5;28;01mif\u001B[39;00m world_size \u001B[38;5;241m>\u001B[39m \u001B[38;5;241m1\u001B[39m:\n\u001B[1;32m    311\u001B[0m     \u001B[38;5;28mself\u001B[39m\u001B[38;5;241m.\u001B[39m_setup_ddp(world_size)\n\u001B[0;32m--> 312\u001B[0m \u001B[38;5;28;43mself\u001B[39;49m\u001B[38;5;241;43m.\u001B[39;49m\u001B[43m_setup_train\u001B[49m\u001B[43m(\u001B[49m\u001B[43mworld_size\u001B[49m\u001B[43m)\u001B[49m\n\u001B[1;32m    314\u001B[0m nb \u001B[38;5;241m=\u001B[39m \u001B[38;5;28mlen\u001B[39m(\u001B[38;5;28mself\u001B[39m\u001B[38;5;241m.\u001B[39mtrain_loader)  \u001B[38;5;66;03m# number of batches\u001B[39;00m\n\u001B[1;32m    315\u001B[0m nw \u001B[38;5;241m=\u001B[39m \u001B[38;5;28mmax\u001B[39m(\u001B[38;5;28mround\u001B[39m(\u001B[38;5;28mself\u001B[39m\u001B[38;5;241m.\u001B[39margs\u001B[38;5;241m.\u001B[39mwarmup_epochs \u001B[38;5;241m*\u001B[39m nb), \u001B[38;5;241m100\u001B[39m) \u001B[38;5;28;01mif\u001B[39;00m \u001B[38;5;28mself\u001B[39m\u001B[38;5;241m.\u001B[39margs\u001B[38;5;241m.\u001B[39mwarmup_epochs \u001B[38;5;241m>\u001B[39m \u001B[38;5;241m0\u001B[39m \u001B[38;5;28;01melse\u001B[39;00m \u001B[38;5;241m-\u001B[39m\u001B[38;5;241m1\u001B[39m  \u001B[38;5;66;03m# warmup iterations\u001B[39;00m\n",
      "File \u001B[0;32m~/repos/ComputerVisionProject/.venv/lib/python3.10/site-packages/ultralytics/engine/trainer.py:276\u001B[0m, in \u001B[0;36mBaseTrainer._setup_train\u001B[0;34m(self, world_size)\u001B[0m\n\u001B[1;32m    274\u001B[0m \u001B[38;5;66;03m# Dataloaders\u001B[39;00m\n\u001B[1;32m    275\u001B[0m batch_size \u001B[38;5;241m=\u001B[39m \u001B[38;5;28mself\u001B[39m\u001B[38;5;241m.\u001B[39mbatch_size \u001B[38;5;241m/\u001B[39m\u001B[38;5;241m/\u001B[39m \u001B[38;5;28mmax\u001B[39m(world_size, \u001B[38;5;241m1\u001B[39m)\n\u001B[0;32m--> 276\u001B[0m \u001B[38;5;28mself\u001B[39m\u001B[38;5;241m.\u001B[39mtrain_loader \u001B[38;5;241m=\u001B[39m \u001B[38;5;28;43mself\u001B[39;49m\u001B[38;5;241;43m.\u001B[39;49m\u001B[43mget_dataloader\u001B[49m\u001B[43m(\u001B[49m\u001B[38;5;28;43mself\u001B[39;49m\u001B[38;5;241;43m.\u001B[39;49m\u001B[43mtrainset\u001B[49m\u001B[43m,\u001B[49m\u001B[43m \u001B[49m\u001B[43mbatch_size\u001B[49m\u001B[38;5;241;43m=\u001B[39;49m\u001B[43mbatch_size\u001B[49m\u001B[43m,\u001B[49m\u001B[43m \u001B[49m\u001B[43mrank\u001B[49m\u001B[38;5;241;43m=\u001B[39;49m\u001B[43mRANK\u001B[49m\u001B[43m,\u001B[49m\u001B[43m \u001B[49m\u001B[43mmode\u001B[49m\u001B[38;5;241;43m=\u001B[39;49m\u001B[38;5;124;43m\"\u001B[39;49m\u001B[38;5;124;43mtrain\u001B[39;49m\u001B[38;5;124;43m\"\u001B[39;49m\u001B[43m)\u001B[49m\n\u001B[1;32m    277\u001B[0m \u001B[38;5;28;01mif\u001B[39;00m RANK \u001B[38;5;129;01min\u001B[39;00m {\u001B[38;5;241m-\u001B[39m\u001B[38;5;241m1\u001B[39m, \u001B[38;5;241m0\u001B[39m}:\n\u001B[1;32m    278\u001B[0m     \u001B[38;5;66;03m# Note: When training DOTA dataset, double batch size could get OOM on images with >2000 objects.\u001B[39;00m\n\u001B[1;32m    279\u001B[0m     \u001B[38;5;28mself\u001B[39m\u001B[38;5;241m.\u001B[39mtest_loader \u001B[38;5;241m=\u001B[39m \u001B[38;5;28mself\u001B[39m\u001B[38;5;241m.\u001B[39mget_dataloader(\n\u001B[1;32m    280\u001B[0m         \u001B[38;5;28mself\u001B[39m\u001B[38;5;241m.\u001B[39mtestset, batch_size\u001B[38;5;241m=\u001B[39mbatch_size \u001B[38;5;28;01mif\u001B[39;00m \u001B[38;5;28mself\u001B[39m\u001B[38;5;241m.\u001B[39margs\u001B[38;5;241m.\u001B[39mtask \u001B[38;5;241m==\u001B[39m \u001B[38;5;124m\"\u001B[39m\u001B[38;5;124mobb\u001B[39m\u001B[38;5;124m\"\u001B[39m \u001B[38;5;28;01melse\u001B[39;00m batch_size \u001B[38;5;241m*\u001B[39m \u001B[38;5;241m2\u001B[39m, rank\u001B[38;5;241m=\u001B[39m\u001B[38;5;241m-\u001B[39m\u001B[38;5;241m1\u001B[39m, mode\u001B[38;5;241m=\u001B[39m\u001B[38;5;124m\"\u001B[39m\u001B[38;5;124mval\u001B[39m\u001B[38;5;124m\"\u001B[39m\n\u001B[1;32m    281\u001B[0m     )\n",
      "File \u001B[0;32m~/repos/ComputerVisionProject/.venv/lib/python3.10/site-packages/ultralytics/models/yolo/detect/train.py:49\u001B[0m, in \u001B[0;36mDetectionTrainer.get_dataloader\u001B[0;34m(self, dataset_path, batch_size, rank, mode)\u001B[0m\n\u001B[1;32m     47\u001B[0m \u001B[38;5;28;01massert\u001B[39;00m mode \u001B[38;5;129;01min\u001B[39;00m {\u001B[38;5;124m\"\u001B[39m\u001B[38;5;124mtrain\u001B[39m\u001B[38;5;124m\"\u001B[39m, \u001B[38;5;124m\"\u001B[39m\u001B[38;5;124mval\u001B[39m\u001B[38;5;124m\"\u001B[39m}, \u001B[38;5;124mf\u001B[39m\u001B[38;5;124m\"\u001B[39m\u001B[38;5;124mMode must be \u001B[39m\u001B[38;5;124m'\u001B[39m\u001B[38;5;124mtrain\u001B[39m\u001B[38;5;124m'\u001B[39m\u001B[38;5;124m or \u001B[39m\u001B[38;5;124m'\u001B[39m\u001B[38;5;124mval\u001B[39m\u001B[38;5;124m'\u001B[39m\u001B[38;5;124m, not \u001B[39m\u001B[38;5;132;01m{\u001B[39;00mmode\u001B[38;5;132;01m}\u001B[39;00m\u001B[38;5;124m.\u001B[39m\u001B[38;5;124m\"\u001B[39m\n\u001B[1;32m     48\u001B[0m \u001B[38;5;28;01mwith\u001B[39;00m torch_distributed_zero_first(rank):  \u001B[38;5;66;03m# init dataset *.cache only once if DDP\u001B[39;00m\n\u001B[0;32m---> 49\u001B[0m     dataset \u001B[38;5;241m=\u001B[39m \u001B[38;5;28;43mself\u001B[39;49m\u001B[38;5;241;43m.\u001B[39;49m\u001B[43mbuild_dataset\u001B[49m\u001B[43m(\u001B[49m\u001B[43mdataset_path\u001B[49m\u001B[43m,\u001B[49m\u001B[43m \u001B[49m\u001B[43mmode\u001B[49m\u001B[43m,\u001B[49m\u001B[43m \u001B[49m\u001B[43mbatch_size\u001B[49m\u001B[43m)\u001B[49m\n\u001B[1;32m     50\u001B[0m shuffle \u001B[38;5;241m=\u001B[39m mode \u001B[38;5;241m==\u001B[39m \u001B[38;5;124m\"\u001B[39m\u001B[38;5;124mtrain\u001B[39m\u001B[38;5;124m\"\u001B[39m\n\u001B[1;32m     51\u001B[0m \u001B[38;5;28;01mif\u001B[39;00m \u001B[38;5;28mgetattr\u001B[39m(dataset, \u001B[38;5;124m\"\u001B[39m\u001B[38;5;124mrect\u001B[39m\u001B[38;5;124m\"\u001B[39m, \u001B[38;5;28;01mFalse\u001B[39;00m) \u001B[38;5;129;01mand\u001B[39;00m shuffle:\n",
      "File \u001B[0;32m~/repos/ComputerVisionProject/.venv/lib/python3.10/site-packages/ultralytics/models/yolo/detect/train.py:43\u001B[0m, in \u001B[0;36mDetectionTrainer.build_dataset\u001B[0;34m(self, img_path, mode, batch)\u001B[0m\n\u001B[1;32m     34\u001B[0m \u001B[38;5;250m\u001B[39m\u001B[38;5;124;03m\"\"\"\u001B[39;00m\n\u001B[1;32m     35\u001B[0m \u001B[38;5;124;03mBuild YOLO Dataset.\u001B[39;00m\n\u001B[1;32m     36\u001B[0m \n\u001B[0;32m   (...)\u001B[0m\n\u001B[1;32m     40\u001B[0m \u001B[38;5;124;03m    batch (int, optional): Size of batches, this is for `rect`. Defaults to None.\u001B[39;00m\n\u001B[1;32m     41\u001B[0m \u001B[38;5;124;03m\"\"\"\u001B[39;00m\n\u001B[1;32m     42\u001B[0m gs \u001B[38;5;241m=\u001B[39m \u001B[38;5;28mmax\u001B[39m(\u001B[38;5;28mint\u001B[39m(de_parallel(\u001B[38;5;28mself\u001B[39m\u001B[38;5;241m.\u001B[39mmodel)\u001B[38;5;241m.\u001B[39mstride\u001B[38;5;241m.\u001B[39mmax() \u001B[38;5;28;01mif\u001B[39;00m \u001B[38;5;28mself\u001B[39m\u001B[38;5;241m.\u001B[39mmodel \u001B[38;5;28;01melse\u001B[39;00m \u001B[38;5;241m0\u001B[39m), \u001B[38;5;241m32\u001B[39m)\n\u001B[0;32m---> 43\u001B[0m \u001B[38;5;28;01mreturn\u001B[39;00m \u001B[43mbuild_yolo_dataset\u001B[49m\u001B[43m(\u001B[49m\u001B[38;5;28;43mself\u001B[39;49m\u001B[38;5;241;43m.\u001B[39;49m\u001B[43margs\u001B[49m\u001B[43m,\u001B[49m\u001B[43m \u001B[49m\u001B[43mimg_path\u001B[49m\u001B[43m,\u001B[49m\u001B[43m \u001B[49m\u001B[43mbatch\u001B[49m\u001B[43m,\u001B[49m\u001B[43m \u001B[49m\u001B[38;5;28;43mself\u001B[39;49m\u001B[38;5;241;43m.\u001B[39;49m\u001B[43mdata\u001B[49m\u001B[43m,\u001B[49m\u001B[43m \u001B[49m\u001B[43mmode\u001B[49m\u001B[38;5;241;43m=\u001B[39;49m\u001B[43mmode\u001B[49m\u001B[43m,\u001B[49m\u001B[43m \u001B[49m\u001B[43mrect\u001B[49m\u001B[38;5;241;43m=\u001B[39;49m\u001B[43mmode\u001B[49m\u001B[43m \u001B[49m\u001B[38;5;241;43m==\u001B[39;49m\u001B[43m \u001B[49m\u001B[38;5;124;43m\"\u001B[39;49m\u001B[38;5;124;43mval\u001B[39;49m\u001B[38;5;124;43m\"\u001B[39;49m\u001B[43m,\u001B[49m\u001B[43m \u001B[49m\u001B[43mstride\u001B[49m\u001B[38;5;241;43m=\u001B[39;49m\u001B[43mgs\u001B[49m\u001B[43m)\u001B[49m\n",
      "File \u001B[0;32m~/repos/ComputerVisionProject/.venv/lib/python3.10/site-packages/ultralytics/data/build.py:88\u001B[0m, in \u001B[0;36mbuild_yolo_dataset\u001B[0;34m(cfg, img_path, batch, data, mode, rect, stride, multi_modal)\u001B[0m\n\u001B[1;32m     86\u001B[0m \u001B[38;5;250m\u001B[39m\u001B[38;5;124;03m\"\"\"Build YOLO Dataset.\"\"\"\u001B[39;00m\n\u001B[1;32m     87\u001B[0m dataset \u001B[38;5;241m=\u001B[39m YOLOMultiModalDataset \u001B[38;5;28;01mif\u001B[39;00m multi_modal \u001B[38;5;28;01melse\u001B[39;00m YOLODataset\n\u001B[0;32m---> 88\u001B[0m \u001B[38;5;28;01mreturn\u001B[39;00m \u001B[43mdataset\u001B[49m\u001B[43m(\u001B[49m\n\u001B[1;32m     89\u001B[0m \u001B[43m    \u001B[49m\u001B[43mimg_path\u001B[49m\u001B[38;5;241;43m=\u001B[39;49m\u001B[43mimg_path\u001B[49m\u001B[43m,\u001B[49m\n\u001B[1;32m     90\u001B[0m \u001B[43m    \u001B[49m\u001B[43mimgsz\u001B[49m\u001B[38;5;241;43m=\u001B[39;49m\u001B[43mcfg\u001B[49m\u001B[38;5;241;43m.\u001B[39;49m\u001B[43mimgsz\u001B[49m\u001B[43m,\u001B[49m\n\u001B[1;32m     91\u001B[0m \u001B[43m    \u001B[49m\u001B[43mbatch_size\u001B[49m\u001B[38;5;241;43m=\u001B[39;49m\u001B[43mbatch\u001B[49m\u001B[43m,\u001B[49m\n\u001B[1;32m     92\u001B[0m \u001B[43m    \u001B[49m\u001B[43maugment\u001B[49m\u001B[38;5;241;43m=\u001B[39;49m\u001B[43mmode\u001B[49m\u001B[43m \u001B[49m\u001B[38;5;241;43m==\u001B[39;49m\u001B[43m \u001B[49m\u001B[38;5;124;43m\"\u001B[39;49m\u001B[38;5;124;43mtrain\u001B[39;49m\u001B[38;5;124;43m\"\u001B[39;49m\u001B[43m,\u001B[49m\u001B[43m  \u001B[49m\u001B[38;5;66;43;03m# augmentation\u001B[39;49;00m\n\u001B[1;32m     93\u001B[0m \u001B[43m    \u001B[49m\u001B[43mhyp\u001B[49m\u001B[38;5;241;43m=\u001B[39;49m\u001B[43mcfg\u001B[49m\u001B[43m,\u001B[49m\u001B[43m  \u001B[49m\u001B[38;5;66;43;03m# TODO: probably add a get_hyps_from_cfg function\u001B[39;49;00m\n\u001B[1;32m     94\u001B[0m \u001B[43m    \u001B[49m\u001B[43mrect\u001B[49m\u001B[38;5;241;43m=\u001B[39;49m\u001B[43mcfg\u001B[49m\u001B[38;5;241;43m.\u001B[39;49m\u001B[43mrect\u001B[49m\u001B[43m \u001B[49m\u001B[38;5;129;43;01mor\u001B[39;49;00m\u001B[43m \u001B[49m\u001B[43mrect\u001B[49m\u001B[43m,\u001B[49m\u001B[43m  \u001B[49m\u001B[38;5;66;43;03m# rectangular batches\u001B[39;49;00m\n\u001B[1;32m     95\u001B[0m \u001B[43m    \u001B[49m\u001B[43mcache\u001B[49m\u001B[38;5;241;43m=\u001B[39;49m\u001B[43mcfg\u001B[49m\u001B[38;5;241;43m.\u001B[39;49m\u001B[43mcache\u001B[49m\u001B[43m \u001B[49m\u001B[38;5;129;43;01mor\u001B[39;49;00m\u001B[43m \u001B[49m\u001B[38;5;28;43;01mNone\u001B[39;49;00m\u001B[43m,\u001B[49m\n\u001B[1;32m     96\u001B[0m \u001B[43m    \u001B[49m\u001B[43msingle_cls\u001B[49m\u001B[38;5;241;43m=\u001B[39;49m\u001B[43mcfg\u001B[49m\u001B[38;5;241;43m.\u001B[39;49m\u001B[43msingle_cls\u001B[49m\u001B[43m \u001B[49m\u001B[38;5;129;43;01mor\u001B[39;49;00m\u001B[43m \u001B[49m\u001B[38;5;28;43;01mFalse\u001B[39;49;00m\u001B[43m,\u001B[49m\n\u001B[1;32m     97\u001B[0m \u001B[43m    \u001B[49m\u001B[43mstride\u001B[49m\u001B[38;5;241;43m=\u001B[39;49m\u001B[38;5;28;43mint\u001B[39;49m\u001B[43m(\u001B[49m\u001B[43mstride\u001B[49m\u001B[43m)\u001B[49m\u001B[43m,\u001B[49m\n\u001B[1;32m     98\u001B[0m \u001B[43m    \u001B[49m\u001B[43mpad\u001B[49m\u001B[38;5;241;43m=\u001B[39;49m\u001B[38;5;241;43m0.0\u001B[39;49m\u001B[43m \u001B[49m\u001B[38;5;28;43;01mif\u001B[39;49;00m\u001B[43m \u001B[49m\u001B[43mmode\u001B[49m\u001B[43m \u001B[49m\u001B[38;5;241;43m==\u001B[39;49m\u001B[43m \u001B[49m\u001B[38;5;124;43m\"\u001B[39;49m\u001B[38;5;124;43mtrain\u001B[39;49m\u001B[38;5;124;43m\"\u001B[39;49m\u001B[43m \u001B[49m\u001B[38;5;28;43;01melse\u001B[39;49;00m\u001B[43m \u001B[49m\u001B[38;5;241;43m0.5\u001B[39;49m\u001B[43m,\u001B[49m\n\u001B[1;32m     99\u001B[0m \u001B[43m    \u001B[49m\u001B[43mprefix\u001B[49m\u001B[38;5;241;43m=\u001B[39;49m\u001B[43mcolorstr\u001B[49m\u001B[43m(\u001B[49m\u001B[38;5;124;43mf\u001B[39;49m\u001B[38;5;124;43m\"\u001B[39;49m\u001B[38;5;132;43;01m{\u001B[39;49;00m\u001B[43mmode\u001B[49m\u001B[38;5;132;43;01m}\u001B[39;49;00m\u001B[38;5;124;43m: \u001B[39;49m\u001B[38;5;124;43m\"\u001B[39;49m\u001B[43m)\u001B[49m\u001B[43m,\u001B[49m\n\u001B[1;32m    100\u001B[0m \u001B[43m    \u001B[49m\u001B[43mtask\u001B[49m\u001B[38;5;241;43m=\u001B[39;49m\u001B[43mcfg\u001B[49m\u001B[38;5;241;43m.\u001B[39;49m\u001B[43mtask\u001B[49m\u001B[43m,\u001B[49m\n\u001B[1;32m    101\u001B[0m \u001B[43m    \u001B[49m\u001B[43mclasses\u001B[49m\u001B[38;5;241;43m=\u001B[39;49m\u001B[43mcfg\u001B[49m\u001B[38;5;241;43m.\u001B[39;49m\u001B[43mclasses\u001B[49m\u001B[43m,\u001B[49m\n\u001B[1;32m    102\u001B[0m \u001B[43m    \u001B[49m\u001B[43mdata\u001B[49m\u001B[38;5;241;43m=\u001B[39;49m\u001B[43mdata\u001B[49m\u001B[43m,\u001B[49m\n\u001B[1;32m    103\u001B[0m \u001B[43m    \u001B[49m\u001B[43mfraction\u001B[49m\u001B[38;5;241;43m=\u001B[39;49m\u001B[43mcfg\u001B[49m\u001B[38;5;241;43m.\u001B[39;49m\u001B[43mfraction\u001B[49m\u001B[43m \u001B[49m\u001B[38;5;28;43;01mif\u001B[39;49;00m\u001B[43m \u001B[49m\u001B[43mmode\u001B[49m\u001B[43m \u001B[49m\u001B[38;5;241;43m==\u001B[39;49m\u001B[43m \u001B[49m\u001B[38;5;124;43m\"\u001B[39;49m\u001B[38;5;124;43mtrain\u001B[39;49m\u001B[38;5;124;43m\"\u001B[39;49m\u001B[43m \u001B[49m\u001B[38;5;28;43;01melse\u001B[39;49;00m\u001B[43m \u001B[49m\u001B[38;5;241;43m1.0\u001B[39;49m\u001B[43m,\u001B[49m\n\u001B[1;32m    104\u001B[0m \u001B[43m\u001B[49m\u001B[43m)\u001B[49m\n",
      "File \u001B[0;32m~/repos/ComputerVisionProject/.venv/lib/python3.10/site-packages/ultralytics/data/dataset.py:63\u001B[0m, in \u001B[0;36mYOLODataset.__init__\u001B[0;34m(self, data, task, *args, **kwargs)\u001B[0m\n\u001B[1;32m     61\u001B[0m \u001B[38;5;28mself\u001B[39m\u001B[38;5;241m.\u001B[39mdata \u001B[38;5;241m=\u001B[39m data\n\u001B[1;32m     62\u001B[0m \u001B[38;5;28;01massert\u001B[39;00m \u001B[38;5;129;01mnot\u001B[39;00m (\u001B[38;5;28mself\u001B[39m\u001B[38;5;241m.\u001B[39muse_segments \u001B[38;5;129;01mand\u001B[39;00m \u001B[38;5;28mself\u001B[39m\u001B[38;5;241m.\u001B[39muse_keypoints), \u001B[38;5;124m\"\u001B[39m\u001B[38;5;124mCan not use both segments and keypoints.\u001B[39m\u001B[38;5;124m\"\u001B[39m\n\u001B[0;32m---> 63\u001B[0m \u001B[38;5;28;43msuper\u001B[39;49m\u001B[43m(\u001B[49m\u001B[43m)\u001B[49m\u001B[38;5;241;43m.\u001B[39;49m\u001B[38;5;21;43m__init__\u001B[39;49m\u001B[43m(\u001B[49m\u001B[38;5;241;43m*\u001B[39;49m\u001B[43margs\u001B[49m\u001B[43m,\u001B[49m\u001B[43m \u001B[49m\u001B[38;5;241;43m*\u001B[39;49m\u001B[38;5;241;43m*\u001B[39;49m\u001B[43mkwargs\u001B[49m\u001B[43m)\u001B[49m\n",
      "File \u001B[0;32m~/repos/ComputerVisionProject/.venv/lib/python3.10/site-packages/ultralytics/data/base.py:73\u001B[0m, in \u001B[0;36mBaseDataset.__init__\u001B[0;34m(self, img_path, imgsz, cache, augment, hyp, prefix, rect, batch_size, stride, pad, single_cls, classes, fraction)\u001B[0m\n\u001B[1;32m     71\u001B[0m \u001B[38;5;28mself\u001B[39m\u001B[38;5;241m.\u001B[39mprefix \u001B[38;5;241m=\u001B[39m prefix\n\u001B[1;32m     72\u001B[0m \u001B[38;5;28mself\u001B[39m\u001B[38;5;241m.\u001B[39mfraction \u001B[38;5;241m=\u001B[39m fraction\n\u001B[0;32m---> 73\u001B[0m \u001B[38;5;28mself\u001B[39m\u001B[38;5;241m.\u001B[39mim_files \u001B[38;5;241m=\u001B[39m \u001B[38;5;28;43mself\u001B[39;49m\u001B[38;5;241;43m.\u001B[39;49m\u001B[43mget_img_files\u001B[49m\u001B[43m(\u001B[49m\u001B[38;5;28;43mself\u001B[39;49m\u001B[38;5;241;43m.\u001B[39;49m\u001B[43mimg_path\u001B[49m\u001B[43m)\u001B[49m\n\u001B[1;32m     74\u001B[0m \u001B[38;5;28mself\u001B[39m\u001B[38;5;241m.\u001B[39mlabels \u001B[38;5;241m=\u001B[39m \u001B[38;5;28mself\u001B[39m\u001B[38;5;241m.\u001B[39mget_labels()\n\u001B[1;32m     75\u001B[0m \u001B[38;5;28mself\u001B[39m\u001B[38;5;241m.\u001B[39mupdate_labels(include_class\u001B[38;5;241m=\u001B[39mclasses)  \u001B[38;5;66;03m# single_cls and include_class\u001B[39;00m\n",
      "File \u001B[0;32m~/repos/ComputerVisionProject/.venv/lib/python3.10/site-packages/ultralytics/data/base.py:123\u001B[0m, in \u001B[0;36mBaseDataset.get_img_files\u001B[0;34m(self, img_path)\u001B[0m\n\u001B[1;32m    121\u001B[0m     \u001B[38;5;28;01massert\u001B[39;00m im_files, \u001B[38;5;124mf\u001B[39m\u001B[38;5;124m\"\u001B[39m\u001B[38;5;132;01m{\u001B[39;00m\u001B[38;5;28mself\u001B[39m\u001B[38;5;241m.\u001B[39mprefix\u001B[38;5;132;01m}\u001B[39;00m\u001B[38;5;124mNo images found in \u001B[39m\u001B[38;5;132;01m{\u001B[39;00mimg_path\u001B[38;5;132;01m}\u001B[39;00m\u001B[38;5;124m. \u001B[39m\u001B[38;5;132;01m{\u001B[39;00mFORMATS_HELP_MSG\u001B[38;5;132;01m}\u001B[39;00m\u001B[38;5;124m\"\u001B[39m\n\u001B[1;32m    122\u001B[0m \u001B[38;5;28;01mexcept\u001B[39;00m \u001B[38;5;167;01mException\u001B[39;00m \u001B[38;5;28;01mas\u001B[39;00m e:\n\u001B[0;32m--> 123\u001B[0m     \u001B[38;5;28;01mraise\u001B[39;00m \u001B[38;5;167;01mFileNotFoundError\u001B[39;00m(\u001B[38;5;124mf\u001B[39m\u001B[38;5;124m\"\u001B[39m\u001B[38;5;132;01m{\u001B[39;00m\u001B[38;5;28mself\u001B[39m\u001B[38;5;241m.\u001B[39mprefix\u001B[38;5;132;01m}\u001B[39;00m\u001B[38;5;124mError loading data from \u001B[39m\u001B[38;5;132;01m{\u001B[39;00mimg_path\u001B[38;5;132;01m}\u001B[39;00m\u001B[38;5;130;01m\\n\u001B[39;00m\u001B[38;5;132;01m{\u001B[39;00mHELP_URL\u001B[38;5;132;01m}\u001B[39;00m\u001B[38;5;124m\"\u001B[39m) \u001B[38;5;28;01mfrom\u001B[39;00m \u001B[38;5;21;01me\u001B[39;00m\n\u001B[1;32m    124\u001B[0m \u001B[38;5;28;01mif\u001B[39;00m \u001B[38;5;28mself\u001B[39m\u001B[38;5;241m.\u001B[39mfraction \u001B[38;5;241m<\u001B[39m \u001B[38;5;241m1\u001B[39m:\n\u001B[1;32m    125\u001B[0m     \u001B[38;5;66;03m# im_files = im_files[: round(len(im_files) * self.fraction)]\u001B[39;00m\n\u001B[1;32m    126\u001B[0m     num_elements_to_select \u001B[38;5;241m=\u001B[39m \u001B[38;5;28mround\u001B[39m(\u001B[38;5;28mlen\u001B[39m(im_files) \u001B[38;5;241m*\u001B[39m \u001B[38;5;28mself\u001B[39m\u001B[38;5;241m.\u001B[39mfraction)\n",
      "\u001B[0;31mFileNotFoundError\u001B[0m: \u001B[34m\u001B[1mtrain: \u001B[0mError loading data from ['/Users/erik/repos/data/fish', '/Users/erik/repos/data/no_fish']\nSee https://docs.ultralytics.com/datasets/detect for dataset formatting guidance."
     ]
    }
   ],
   "source": [
    "model = YOLO(\"yolov8n.yaml\")\n",
    "\n",
    "# Train the model\n",
    "model.train(data=\"../nemoV1.yaml\", epochs=1)"
   ],
   "metadata": {
    "collapsed": false,
    "ExecuteTime": {
     "end_time": "2024-04-03T11:45:28.638441Z",
     "start_time": "2024-04-03T11:45:25.326694Z"
    }
   },
   "id": "dc88207c5155750b",
   "execution_count": 22
  },
  {
   "cell_type": "code",
   "outputs": [],
   "source": [],
   "metadata": {
    "collapsed": false
   },
   "id": "82c8a6bd973f77b1"
  }
 ],
 "metadata": {
  "kernelspec": {
   "display_name": "Python 3",
   "language": "python",
   "name": "python3"
  },
  "language_info": {
   "codemirror_mode": {
    "name": "ipython",
    "version": 2
   },
   "file_extension": ".py",
   "mimetype": "text/x-python",
   "name": "python",
   "nbconvert_exporter": "python",
   "pygments_lexer": "ipython2",
   "version": "2.7.6"
  }
 },
 "nbformat": 4,
 "nbformat_minor": 5
}
