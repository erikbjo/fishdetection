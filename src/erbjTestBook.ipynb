{
 "cells": [
  {
   "cell_type": "code",
   "execution_count": 1,
   "id": "initial_id",
   "metadata": {
    "collapsed": true,
    "ExecuteTime": {
     "end_time": "2024-04-03T11:21:13.118630Z",
     "start_time": "2024-04-03T11:21:08.713902Z"
    }
   },
   "outputs": [],
   "source": [
    "from ultralytics import YOLO\n",
    "import os\n",
    "import xml.etree.ElementTree as ET"
   ]
  },
  {
   "cell_type": "code",
   "outputs": [],
   "source": [
    "#model = YOLO('yolov8n.pt')\n",
    "#model.predict(\n",
    "#   source='https://media.roboflow.com/notebooks/examples/dog.jpeg',\n",
    "#   conf=0.25\n",
    "#)"
   ],
   "metadata": {
    "collapsed": false,
    "ExecuteTime": {
     "end_time": "2024-04-03T11:21:14.648414Z",
     "start_time": "2024-04-03T11:21:14.644991Z"
    }
   },
   "id": "2603a1296fa6b2ae",
   "execution_count": 2
  },
  {
   "cell_type": "code",
   "outputs": [],
   "source": [
    "# !yolo predict model=yolov8n.pt source='/Users/erik/repos/ComputerVisionProject/img.png'"
   ],
   "metadata": {
    "collapsed": false,
    "ExecuteTime": {
     "end_time": "2024-04-03T11:21:15.115223Z",
     "start_time": "2024-04-03T11:21:15.112281Z"
    }
   },
   "id": "e3cd54004e9da5e8",
   "execution_count": 3
  },
  {
   "cell_type": "code",
   "outputs": [],
   "source": [
    "def does_file_exist(file_path):\n",
    "    return os.path.exists(file_path)"
   ],
   "metadata": {
    "collapsed": false,
    "ExecuteTime": {
     "end_time": "2024-04-03T11:21:15.830528Z",
     "start_time": "2024-04-03T11:21:15.825458Z"
    }
   },
   "id": "6c7feb438410f1f",
   "execution_count": 4
  },
  {
   "cell_type": "code",
   "outputs": [],
   "source": [
    "def does_xml_file_contain_track_element(file_path):\n",
    "    with open(file_path, 'r') as file:\n",
    "        data = file.read()\n",
    "        return '<track' in data"
   ],
   "metadata": {
    "collapsed": false,
    "ExecuteTime": {
     "end_time": "2024-04-03T11:21:16.458554Z",
     "start_time": "2024-04-03T11:21:16.452945Z"
    }
   },
   "id": "da1c59c7c0a30aec",
   "execution_count": 5
  },
  {
   "cell_type": "code",
   "outputs": [],
   "source": [
    "def rename_folder_space_to_underscore(folder_path):\n",
    "    os.rename(folder_path, folder_path.replace(' ', '_'))"
   ],
   "metadata": {
    "collapsed": false,
    "ExecuteTime": {
     "end_time": "2024-04-03T11:21:16.990138Z",
     "start_time": "2024-04-03T11:21:16.986525Z"
    }
   },
   "id": "74f90f667a256c68",
   "execution_count": 6
  },
  {
   "cell_type": "code",
   "outputs": [],
   "source": [
    "for folder in os.listdir('/Users/erik/repos/ComputerVisionProject/data/Annotation'):\n",
    "    folder_path = f'/Users/erik/repos/ComputerVisionProject/data/Annotation/{folder}'\n",
    "    if os.path.isdir(folder_path):\n",
    "        rename_folder_space_to_underscore(folder_path)"
   ],
   "metadata": {
    "collapsed": false,
    "ExecuteTime": {
     "end_time": "2024-04-03T11:21:17.408744Z",
     "start_time": "2024-04-03T11:21:17.403764Z"
    }
   },
   "id": "74ce3d1a0e2a2f28",
   "execution_count": 7
  },
  {
   "cell_type": "code",
   "outputs": [
    {
     "name": "stdout",
     "output_type": "stream",
     "text": [
      "- task_fish_detection-2024_01_28_18_07_53-cvat_for_video_1.1\n"
     ]
    }
   ],
   "source": [
    "# Create output to be pasted into yaml file\n",
    "# - task_fish_detection-2024_02_05_07_51_04-cvat_for_video_1.1\n",
    "for folder in os.listdir('/Users/erik/repos/ComputerVisionProject/data/Annotation'):\n",
    "    folder_path = f'/Users/erik/repos/ComputerVisionProject/data/Annotation/{folder}'\n",
    "    if os.path.isdir(folder_path):\n",
    "        print(f'- {folder}')"
   ],
   "metadata": {
    "collapsed": false,
    "ExecuteTime": {
     "end_time": "2024-04-03T11:21:17.975447Z",
     "start_time": "2024-04-03T11:21:17.970320Z"
    }
   },
   "id": "9bad267de9700c9c",
   "execution_count": 8
  },
  {
   "cell_type": "code",
   "outputs": [],
   "source": [
    "# Create two folders: one with fish and one without fish\n",
    "if not os.path.exists('/Users/erik/repos/ComputerVisionProject/data/fish'):\n",
    "    os.mkdir('/Users/erik/repos/ComputerVisionProject/data/fish')\n",
    "if not os.path.exists('/Users/erik/repos/ComputerVisionProject/data/no_fish'):\n",
    "    os.mkdir('/Users/erik/repos/ComputerVisionProject/data/no_fish')"
   ],
   "metadata": {
    "collapsed": false,
    "ExecuteTime": {
     "end_time": "2024-04-03T11:21:19.242815Z",
     "start_time": "2024-04-03T11:21:19.236959Z"
    }
   },
   "id": "4b10133605055248",
   "execution_count": 9
  },
  {
   "cell_type": "code",
   "outputs": [],
   "source": [
    "# Move folders with fish to fish folder and folders without fish to no_fish folder\n",
    "# for folder in os.listdir('/Users/erik/repos/ComputerVisionProject/data/Annotation'):\n",
    "#     folder_path = f'/Users/erik/repos/ComputerVisionProject/data/Annotation/{folder}'\n",
    "#     if os.path.isdir(folder_path):\n",
    "#         if does_file_exist(f'{folder_path}/annotations.xml') and does_xml_file_contain_track_element(\n",
    "#                 f'{folder_path}/annotations.xml'):\n",
    "#             os.rename(folder_path, f'/Users/erik/repos/ComputerVisionProject/data/fish/{folder}')\n",
    "#         else:\n",
    "#             os.rename(folder_path, f'/Users/erik/repos/ComputerVisionProject/data/no_fish/{folder}')"
   ],
   "metadata": {
    "collapsed": false,
    "ExecuteTime": {
     "end_time": "2024-04-03T11:21:19.790858Z",
     "start_time": "2024-04-03T11:21:19.786764Z"
    }
   },
   "id": "fc1c7e76a9016281",
   "execution_count": 10
  },
  {
   "cell_type": "code",
   "outputs": [],
   "source": [
    "## Example xml:\n",
    "# <track id=\"0\" label=\"SEACHAR\" source=\"manual\">\n",
    "#    <box frame=\"71\" outside=\"0\" occluded=\"0\" keyframe=\"1\" xtl=\"22.83\" ytl=\"718.40\" xbr=\"140.30\" ybr=\"868.50\" z_order=\"0\">\n",
    "#    </box>\n",
    "#    <box frame=\"72\" outside=\"0\" occluded=\"0\" keyframe=\"0\" xtl=\"22.31\" ytl=\"714.45\" xbr=\"158.30\" ybr=\"866.73\" z_order=\"0\">\n",
    "#    </box>\n",
    "#    ...\n",
    "#    <box frame=\"179\" outside=\"0\" occluded=\"0\" keyframe=\"0\" xtl=\"12.53\" ytl=\"510.70\" xbr=\"99.20\" ybr=\"675.10\" z_order=\"0\">\n",
    "#    </box>\n",
    "#    <box frame=\"180\" outside=\"1\" occluded=\"0\" keyframe=\"1\" xtl=\"12.53\" ytl=\"510.70\" xbr=\"99.20\" ybr=\"675.10\" z_order=\"0\">\n",
    "#    </box>\n",
    "# </track>"
   ],
   "metadata": {
    "collapsed": false,
    "ExecuteTime": {
     "end_time": "2024-04-03T11:21:20.398716Z",
     "start_time": "2024-04-03T11:21:20.395419Z"
    }
   },
   "id": "d92fa8deea14214c",
   "execution_count": 11
  },
  {
   "cell_type": "code",
   "outputs": [],
   "source": [
    "def get_file_path_from_frame_number_and_folder_path(folder_path, frame_number):\n",
    "    # Make frame_number be 6 digit with leading zeros\n",
    "    frame_number = str(frame_number).zfill(6)\n",
    "    # folder -> images -> frame_{frame_number}.PNG\n",
    "    file_path = f'{folder_path}/images/frame_{frame_number}.PNG'\n",
    "    if os.path.exists(file_path):\n",
    "        print(\"Found file path: \", file_path)\n",
    "        return file_path\n",
    "    else:\n",
    "        print(\"Did not find file path: \", file_path)\n",
    "        return None"
   ],
   "metadata": {
    "collapsed": false,
    "ExecuteTime": {
     "end_time": "2024-04-03T11:21:37.718419Z",
     "start_time": "2024-04-03T11:21:37.712330Z"
    }
   },
   "id": "fd9c5af9c65a8cee",
   "execution_count": 12
  },
  {
   "cell_type": "code",
   "outputs": [],
   "source": [],
   "metadata": {
    "collapsed": false,
    "ExecuteTime": {
     "end_time": "2024-04-03T11:21:38.137524Z",
     "start_time": "2024-04-03T11:21:38.129990Z"
    }
   },
   "id": "e2a0a5f51a78dd9c",
   "execution_count": 12
  },
  {
   "cell_type": "code",
   "outputs": [],
   "source": [
    "def get_images_with_fish_from_folder_path(folder_path):\n",
    "    images_with_fish = []\n",
    "    annotation_file_path = folder_path + '/annotations.xml'  # Unsafe\n",
    "\n",
    "    try:\n",
    "        tree = ET.parse(annotation_file_path)\n",
    "        root = tree.getroot()\n",
    "\n",
    "        for track in root.findall('track'):\n",
    "            for box in track.findall('box'):\n",
    "                frame_number = int(box.get('frame'))\n",
    "                file_path = get_file_path_from_frame_number_and_folder_path(folder_path, frame_number)\n",
    "                if file_path is not None:\n",
    "                    images_with_fish.append(file_path)\n",
    "\n",
    "    except FileNotFoundError:\n",
    "        print(\"Could not find annotation file.\")\n",
    "    except Exception as e:\n",
    "        print(f\"Error: {e}\")\n",
    "\n",
    "    return images_with_fish"
   ],
   "metadata": {
    "collapsed": false,
    "ExecuteTime": {
     "end_time": "2024-04-03T11:21:38.584280Z",
     "start_time": "2024-04-03T11:21:38.578585Z"
    }
   },
   "id": "e038c8e88acd0dc4",
   "execution_count": 13
  },
  {
   "cell_type": "code",
   "outputs": [
    {
     "name": "stdout",
     "output_type": "stream",
     "text": [
      "Found file path:  /Users/erik/repos/ComputerVisionProject/data/Annotation/task_fish_detection-2024_01_28_18_07_53-cvat_for_video_1.1/images/frame_000071.PNG\n",
      "Found file path:  /Users/erik/repos/ComputerVisionProject/data/Annotation/task_fish_detection-2024_01_28_18_07_53-cvat_for_video_1.1/images/frame_000072.PNG\n",
      "Found file path:  /Users/erik/repos/ComputerVisionProject/data/Annotation/task_fish_detection-2024_01_28_18_07_53-cvat_for_video_1.1/images/frame_000073.PNG\n",
      "Found file path:  /Users/erik/repos/ComputerVisionProject/data/Annotation/task_fish_detection-2024_01_28_18_07_53-cvat_for_video_1.1/images/frame_000074.PNG\n",
      "Found file path:  /Users/erik/repos/ComputerVisionProject/data/Annotation/task_fish_detection-2024_01_28_18_07_53-cvat_for_video_1.1/images/frame_000075.PNG\n",
      "Found file path:  /Users/erik/repos/ComputerVisionProject/data/Annotation/task_fish_detection-2024_01_28_18_07_53-cvat_for_video_1.1/images/frame_000076.PNG\n",
      "Found file path:  /Users/erik/repos/ComputerVisionProject/data/Annotation/task_fish_detection-2024_01_28_18_07_53-cvat_for_video_1.1/images/frame_000077.PNG\n",
      "Found file path:  /Users/erik/repos/ComputerVisionProject/data/Annotation/task_fish_detection-2024_01_28_18_07_53-cvat_for_video_1.1/images/frame_000078.PNG\n",
      "Found file path:  /Users/erik/repos/ComputerVisionProject/data/Annotation/task_fish_detection-2024_01_28_18_07_53-cvat_for_video_1.1/images/frame_000079.PNG\n",
      "Found file path:  /Users/erik/repos/ComputerVisionProject/data/Annotation/task_fish_detection-2024_01_28_18_07_53-cvat_for_video_1.1/images/frame_000080.PNG\n",
      "Found file path:  /Users/erik/repos/ComputerVisionProject/data/Annotation/task_fish_detection-2024_01_28_18_07_53-cvat_for_video_1.1/images/frame_000081.PNG\n",
      "Found file path:  /Users/erik/repos/ComputerVisionProject/data/Annotation/task_fish_detection-2024_01_28_18_07_53-cvat_for_video_1.1/images/frame_000082.PNG\n",
      "Found file path:  /Users/erik/repos/ComputerVisionProject/data/Annotation/task_fish_detection-2024_01_28_18_07_53-cvat_for_video_1.1/images/frame_000083.PNG\n",
      "Found file path:  /Users/erik/repos/ComputerVisionProject/data/Annotation/task_fish_detection-2024_01_28_18_07_53-cvat_for_video_1.1/images/frame_000084.PNG\n",
      "Found file path:  /Users/erik/repos/ComputerVisionProject/data/Annotation/task_fish_detection-2024_01_28_18_07_53-cvat_for_video_1.1/images/frame_000085.PNG\n",
      "Found file path:  /Users/erik/repos/ComputerVisionProject/data/Annotation/task_fish_detection-2024_01_28_18_07_53-cvat_for_video_1.1/images/frame_000086.PNG\n",
      "Found file path:  /Users/erik/repos/ComputerVisionProject/data/Annotation/task_fish_detection-2024_01_28_18_07_53-cvat_for_video_1.1/images/frame_000087.PNG\n",
      "Found file path:  /Users/erik/repos/ComputerVisionProject/data/Annotation/task_fish_detection-2024_01_28_18_07_53-cvat_for_video_1.1/images/frame_000088.PNG\n",
      "Found file path:  /Users/erik/repos/ComputerVisionProject/data/Annotation/task_fish_detection-2024_01_28_18_07_53-cvat_for_video_1.1/images/frame_000089.PNG\n",
      "Found file path:  /Users/erik/repos/ComputerVisionProject/data/Annotation/task_fish_detection-2024_01_28_18_07_53-cvat_for_video_1.1/images/frame_000090.PNG\n",
      "Found file path:  /Users/erik/repos/ComputerVisionProject/data/Annotation/task_fish_detection-2024_01_28_18_07_53-cvat_for_video_1.1/images/frame_000091.PNG\n",
      "Found file path:  /Users/erik/repos/ComputerVisionProject/data/Annotation/task_fish_detection-2024_01_28_18_07_53-cvat_for_video_1.1/images/frame_000092.PNG\n",
      "Found file path:  /Users/erik/repos/ComputerVisionProject/data/Annotation/task_fish_detection-2024_01_28_18_07_53-cvat_for_video_1.1/images/frame_000093.PNG\n",
      "Found file path:  /Users/erik/repos/ComputerVisionProject/data/Annotation/task_fish_detection-2024_01_28_18_07_53-cvat_for_video_1.1/images/frame_000094.PNG\n",
      "Found file path:  /Users/erik/repos/ComputerVisionProject/data/Annotation/task_fish_detection-2024_01_28_18_07_53-cvat_for_video_1.1/images/frame_000095.PNG\n",
      "Found file path:  /Users/erik/repos/ComputerVisionProject/data/Annotation/task_fish_detection-2024_01_28_18_07_53-cvat_for_video_1.1/images/frame_000096.PNG\n",
      "Found file path:  /Users/erik/repos/ComputerVisionProject/data/Annotation/task_fish_detection-2024_01_28_18_07_53-cvat_for_video_1.1/images/frame_000097.PNG\n",
      "Found file path:  /Users/erik/repos/ComputerVisionProject/data/Annotation/task_fish_detection-2024_01_28_18_07_53-cvat_for_video_1.1/images/frame_000098.PNG\n",
      "Found file path:  /Users/erik/repos/ComputerVisionProject/data/Annotation/task_fish_detection-2024_01_28_18_07_53-cvat_for_video_1.1/images/frame_000099.PNG\n",
      "Found file path:  /Users/erik/repos/ComputerVisionProject/data/Annotation/task_fish_detection-2024_01_28_18_07_53-cvat_for_video_1.1/images/frame_000100.PNG\n",
      "Found file path:  /Users/erik/repos/ComputerVisionProject/data/Annotation/task_fish_detection-2024_01_28_18_07_53-cvat_for_video_1.1/images/frame_000101.PNG\n",
      "Found file path:  /Users/erik/repos/ComputerVisionProject/data/Annotation/task_fish_detection-2024_01_28_18_07_53-cvat_for_video_1.1/images/frame_000102.PNG\n",
      "Found file path:  /Users/erik/repos/ComputerVisionProject/data/Annotation/task_fish_detection-2024_01_28_18_07_53-cvat_for_video_1.1/images/frame_000103.PNG\n",
      "Found file path:  /Users/erik/repos/ComputerVisionProject/data/Annotation/task_fish_detection-2024_01_28_18_07_53-cvat_for_video_1.1/images/frame_000104.PNG\n",
      "Found file path:  /Users/erik/repos/ComputerVisionProject/data/Annotation/task_fish_detection-2024_01_28_18_07_53-cvat_for_video_1.1/images/frame_000105.PNG\n",
      "Found file path:  /Users/erik/repos/ComputerVisionProject/data/Annotation/task_fish_detection-2024_01_28_18_07_53-cvat_for_video_1.1/images/frame_000106.PNG\n",
      "Found file path:  /Users/erik/repos/ComputerVisionProject/data/Annotation/task_fish_detection-2024_01_28_18_07_53-cvat_for_video_1.1/images/frame_000107.PNG\n",
      "Found file path:  /Users/erik/repos/ComputerVisionProject/data/Annotation/task_fish_detection-2024_01_28_18_07_53-cvat_for_video_1.1/images/frame_000108.PNG\n",
      "Found file path:  /Users/erik/repos/ComputerVisionProject/data/Annotation/task_fish_detection-2024_01_28_18_07_53-cvat_for_video_1.1/images/frame_000109.PNG\n",
      "Found file path:  /Users/erik/repos/ComputerVisionProject/data/Annotation/task_fish_detection-2024_01_28_18_07_53-cvat_for_video_1.1/images/frame_000110.PNG\n",
      "Found file path:  /Users/erik/repos/ComputerVisionProject/data/Annotation/task_fish_detection-2024_01_28_18_07_53-cvat_for_video_1.1/images/frame_000111.PNG\n",
      "Found file path:  /Users/erik/repos/ComputerVisionProject/data/Annotation/task_fish_detection-2024_01_28_18_07_53-cvat_for_video_1.1/images/frame_000112.PNG\n",
      "Found file path:  /Users/erik/repos/ComputerVisionProject/data/Annotation/task_fish_detection-2024_01_28_18_07_53-cvat_for_video_1.1/images/frame_000113.PNG\n",
      "Found file path:  /Users/erik/repos/ComputerVisionProject/data/Annotation/task_fish_detection-2024_01_28_18_07_53-cvat_for_video_1.1/images/frame_000114.PNG\n",
      "Found file path:  /Users/erik/repos/ComputerVisionProject/data/Annotation/task_fish_detection-2024_01_28_18_07_53-cvat_for_video_1.1/images/frame_000115.PNG\n",
      "Found file path:  /Users/erik/repos/ComputerVisionProject/data/Annotation/task_fish_detection-2024_01_28_18_07_53-cvat_for_video_1.1/images/frame_000116.PNG\n",
      "Found file path:  /Users/erik/repos/ComputerVisionProject/data/Annotation/task_fish_detection-2024_01_28_18_07_53-cvat_for_video_1.1/images/frame_000117.PNG\n",
      "Found file path:  /Users/erik/repos/ComputerVisionProject/data/Annotation/task_fish_detection-2024_01_28_18_07_53-cvat_for_video_1.1/images/frame_000118.PNG\n",
      "Found file path:  /Users/erik/repos/ComputerVisionProject/data/Annotation/task_fish_detection-2024_01_28_18_07_53-cvat_for_video_1.1/images/frame_000119.PNG\n",
      "Found file path:  /Users/erik/repos/ComputerVisionProject/data/Annotation/task_fish_detection-2024_01_28_18_07_53-cvat_for_video_1.1/images/frame_000120.PNG\n",
      "Found file path:  /Users/erik/repos/ComputerVisionProject/data/Annotation/task_fish_detection-2024_01_28_18_07_53-cvat_for_video_1.1/images/frame_000121.PNG\n",
      "Found file path:  /Users/erik/repos/ComputerVisionProject/data/Annotation/task_fish_detection-2024_01_28_18_07_53-cvat_for_video_1.1/images/frame_000122.PNG\n",
      "Found file path:  /Users/erik/repos/ComputerVisionProject/data/Annotation/task_fish_detection-2024_01_28_18_07_53-cvat_for_video_1.1/images/frame_000123.PNG\n",
      "Found file path:  /Users/erik/repos/ComputerVisionProject/data/Annotation/task_fish_detection-2024_01_28_18_07_53-cvat_for_video_1.1/images/frame_000124.PNG\n",
      "Found file path:  /Users/erik/repos/ComputerVisionProject/data/Annotation/task_fish_detection-2024_01_28_18_07_53-cvat_for_video_1.1/images/frame_000125.PNG\n",
      "Found file path:  /Users/erik/repos/ComputerVisionProject/data/Annotation/task_fish_detection-2024_01_28_18_07_53-cvat_for_video_1.1/images/frame_000126.PNG\n",
      "Found file path:  /Users/erik/repos/ComputerVisionProject/data/Annotation/task_fish_detection-2024_01_28_18_07_53-cvat_for_video_1.1/images/frame_000127.PNG\n",
      "Found file path:  /Users/erik/repos/ComputerVisionProject/data/Annotation/task_fish_detection-2024_01_28_18_07_53-cvat_for_video_1.1/images/frame_000128.PNG\n",
      "Found file path:  /Users/erik/repos/ComputerVisionProject/data/Annotation/task_fish_detection-2024_01_28_18_07_53-cvat_for_video_1.1/images/frame_000129.PNG\n",
      "Found file path:  /Users/erik/repos/ComputerVisionProject/data/Annotation/task_fish_detection-2024_01_28_18_07_53-cvat_for_video_1.1/images/frame_000130.PNG\n",
      "Found file path:  /Users/erik/repos/ComputerVisionProject/data/Annotation/task_fish_detection-2024_01_28_18_07_53-cvat_for_video_1.1/images/frame_000131.PNG\n",
      "Found file path:  /Users/erik/repos/ComputerVisionProject/data/Annotation/task_fish_detection-2024_01_28_18_07_53-cvat_for_video_1.1/images/frame_000132.PNG\n",
      "Found file path:  /Users/erik/repos/ComputerVisionProject/data/Annotation/task_fish_detection-2024_01_28_18_07_53-cvat_for_video_1.1/images/frame_000133.PNG\n",
      "Found file path:  /Users/erik/repos/ComputerVisionProject/data/Annotation/task_fish_detection-2024_01_28_18_07_53-cvat_for_video_1.1/images/frame_000134.PNG\n",
      "Found file path:  /Users/erik/repos/ComputerVisionProject/data/Annotation/task_fish_detection-2024_01_28_18_07_53-cvat_for_video_1.1/images/frame_000135.PNG\n",
      "Found file path:  /Users/erik/repos/ComputerVisionProject/data/Annotation/task_fish_detection-2024_01_28_18_07_53-cvat_for_video_1.1/images/frame_000136.PNG\n",
      "Found file path:  /Users/erik/repos/ComputerVisionProject/data/Annotation/task_fish_detection-2024_01_28_18_07_53-cvat_for_video_1.1/images/frame_000137.PNG\n",
      "Found file path:  /Users/erik/repos/ComputerVisionProject/data/Annotation/task_fish_detection-2024_01_28_18_07_53-cvat_for_video_1.1/images/frame_000138.PNG\n",
      "Found file path:  /Users/erik/repos/ComputerVisionProject/data/Annotation/task_fish_detection-2024_01_28_18_07_53-cvat_for_video_1.1/images/frame_000139.PNG\n",
      "Found file path:  /Users/erik/repos/ComputerVisionProject/data/Annotation/task_fish_detection-2024_01_28_18_07_53-cvat_for_video_1.1/images/frame_000140.PNG\n",
      "Found file path:  /Users/erik/repos/ComputerVisionProject/data/Annotation/task_fish_detection-2024_01_28_18_07_53-cvat_for_video_1.1/images/frame_000141.PNG\n",
      "Found file path:  /Users/erik/repos/ComputerVisionProject/data/Annotation/task_fish_detection-2024_01_28_18_07_53-cvat_for_video_1.1/images/frame_000142.PNG\n",
      "Found file path:  /Users/erik/repos/ComputerVisionProject/data/Annotation/task_fish_detection-2024_01_28_18_07_53-cvat_for_video_1.1/images/frame_000143.PNG\n",
      "Found file path:  /Users/erik/repos/ComputerVisionProject/data/Annotation/task_fish_detection-2024_01_28_18_07_53-cvat_for_video_1.1/images/frame_000144.PNG\n",
      "Found file path:  /Users/erik/repos/ComputerVisionProject/data/Annotation/task_fish_detection-2024_01_28_18_07_53-cvat_for_video_1.1/images/frame_000145.PNG\n",
      "Found file path:  /Users/erik/repos/ComputerVisionProject/data/Annotation/task_fish_detection-2024_01_28_18_07_53-cvat_for_video_1.1/images/frame_000146.PNG\n",
      "Found file path:  /Users/erik/repos/ComputerVisionProject/data/Annotation/task_fish_detection-2024_01_28_18_07_53-cvat_for_video_1.1/images/frame_000147.PNG\n",
      "Found file path:  /Users/erik/repos/ComputerVisionProject/data/Annotation/task_fish_detection-2024_01_28_18_07_53-cvat_for_video_1.1/images/frame_000148.PNG\n",
      "Found file path:  /Users/erik/repos/ComputerVisionProject/data/Annotation/task_fish_detection-2024_01_28_18_07_53-cvat_for_video_1.1/images/frame_000149.PNG\n",
      "Found file path:  /Users/erik/repos/ComputerVisionProject/data/Annotation/task_fish_detection-2024_01_28_18_07_53-cvat_for_video_1.1/images/frame_000150.PNG\n",
      "Found file path:  /Users/erik/repos/ComputerVisionProject/data/Annotation/task_fish_detection-2024_01_28_18_07_53-cvat_for_video_1.1/images/frame_000151.PNG\n",
      "Found file path:  /Users/erik/repos/ComputerVisionProject/data/Annotation/task_fish_detection-2024_01_28_18_07_53-cvat_for_video_1.1/images/frame_000152.PNG\n",
      "Found file path:  /Users/erik/repos/ComputerVisionProject/data/Annotation/task_fish_detection-2024_01_28_18_07_53-cvat_for_video_1.1/images/frame_000153.PNG\n",
      "Found file path:  /Users/erik/repos/ComputerVisionProject/data/Annotation/task_fish_detection-2024_01_28_18_07_53-cvat_for_video_1.1/images/frame_000154.PNG\n",
      "Found file path:  /Users/erik/repos/ComputerVisionProject/data/Annotation/task_fish_detection-2024_01_28_18_07_53-cvat_for_video_1.1/images/frame_000155.PNG\n",
      "Found file path:  /Users/erik/repos/ComputerVisionProject/data/Annotation/task_fish_detection-2024_01_28_18_07_53-cvat_for_video_1.1/images/frame_000156.PNG\n",
      "Found file path:  /Users/erik/repos/ComputerVisionProject/data/Annotation/task_fish_detection-2024_01_28_18_07_53-cvat_for_video_1.1/images/frame_000157.PNG\n",
      "Found file path:  /Users/erik/repos/ComputerVisionProject/data/Annotation/task_fish_detection-2024_01_28_18_07_53-cvat_for_video_1.1/images/frame_000158.PNG\n",
      "Found file path:  /Users/erik/repos/ComputerVisionProject/data/Annotation/task_fish_detection-2024_01_28_18_07_53-cvat_for_video_1.1/images/frame_000159.PNG\n",
      "Found file path:  /Users/erik/repos/ComputerVisionProject/data/Annotation/task_fish_detection-2024_01_28_18_07_53-cvat_for_video_1.1/images/frame_000160.PNG\n",
      "Found file path:  /Users/erik/repos/ComputerVisionProject/data/Annotation/task_fish_detection-2024_01_28_18_07_53-cvat_for_video_1.1/images/frame_000161.PNG\n",
      "Found file path:  /Users/erik/repos/ComputerVisionProject/data/Annotation/task_fish_detection-2024_01_28_18_07_53-cvat_for_video_1.1/images/frame_000162.PNG\n",
      "Found file path:  /Users/erik/repos/ComputerVisionProject/data/Annotation/task_fish_detection-2024_01_28_18_07_53-cvat_for_video_1.1/images/frame_000163.PNG\n",
      "Found file path:  /Users/erik/repos/ComputerVisionProject/data/Annotation/task_fish_detection-2024_01_28_18_07_53-cvat_for_video_1.1/images/frame_000164.PNG\n",
      "Found file path:  /Users/erik/repos/ComputerVisionProject/data/Annotation/task_fish_detection-2024_01_28_18_07_53-cvat_for_video_1.1/images/frame_000165.PNG\n",
      "Found file path:  /Users/erik/repos/ComputerVisionProject/data/Annotation/task_fish_detection-2024_01_28_18_07_53-cvat_for_video_1.1/images/frame_000166.PNG\n",
      "Found file path:  /Users/erik/repos/ComputerVisionProject/data/Annotation/task_fish_detection-2024_01_28_18_07_53-cvat_for_video_1.1/images/frame_000167.PNG\n",
      "Found file path:  /Users/erik/repos/ComputerVisionProject/data/Annotation/task_fish_detection-2024_01_28_18_07_53-cvat_for_video_1.1/images/frame_000168.PNG\n",
      "Found file path:  /Users/erik/repos/ComputerVisionProject/data/Annotation/task_fish_detection-2024_01_28_18_07_53-cvat_for_video_1.1/images/frame_000169.PNG\n",
      "Found file path:  /Users/erik/repos/ComputerVisionProject/data/Annotation/task_fish_detection-2024_01_28_18_07_53-cvat_for_video_1.1/images/frame_000170.PNG\n",
      "Found file path:  /Users/erik/repos/ComputerVisionProject/data/Annotation/task_fish_detection-2024_01_28_18_07_53-cvat_for_video_1.1/images/frame_000171.PNG\n",
      "Found file path:  /Users/erik/repos/ComputerVisionProject/data/Annotation/task_fish_detection-2024_01_28_18_07_53-cvat_for_video_1.1/images/frame_000172.PNG\n",
      "Found file path:  /Users/erik/repos/ComputerVisionProject/data/Annotation/task_fish_detection-2024_01_28_18_07_53-cvat_for_video_1.1/images/frame_000173.PNG\n",
      "Found file path:  /Users/erik/repos/ComputerVisionProject/data/Annotation/task_fish_detection-2024_01_28_18_07_53-cvat_for_video_1.1/images/frame_000174.PNG\n",
      "Found file path:  /Users/erik/repos/ComputerVisionProject/data/Annotation/task_fish_detection-2024_01_28_18_07_53-cvat_for_video_1.1/images/frame_000175.PNG\n",
      "Found file path:  /Users/erik/repos/ComputerVisionProject/data/Annotation/task_fish_detection-2024_01_28_18_07_53-cvat_for_video_1.1/images/frame_000176.PNG\n",
      "Found file path:  /Users/erik/repos/ComputerVisionProject/data/Annotation/task_fish_detection-2024_01_28_18_07_53-cvat_for_video_1.1/images/frame_000177.PNG\n",
      "Found file path:  /Users/erik/repos/ComputerVisionProject/data/Annotation/task_fish_detection-2024_01_28_18_07_53-cvat_for_video_1.1/images/frame_000178.PNG\n",
      "Found file path:  /Users/erik/repos/ComputerVisionProject/data/Annotation/task_fish_detection-2024_01_28_18_07_53-cvat_for_video_1.1/images/frame_000179.PNG\n",
      "Found file path:  /Users/erik/repos/ComputerVisionProject/data/Annotation/task_fish_detection-2024_01_28_18_07_53-cvat_for_video_1.1/images/frame_000180.PNG\n"
     ]
    }
   ],
   "source": [
    "# Move images with fish to fish folder and remove images without fish\n",
    "for folder in os.listdir('/Users/erik/repos/ComputerVisionProject/data/Annotation'):\n",
    "    folder_path = f'/Users/erik/repos/ComputerVisionProject/data/Annotation/{folder}'\n",
    "    if os.path.isdir(folder_path):\n",
    "        images_file_paths_with_fish = get_images_with_fish_from_folder_path(folder_path)\n",
    "        for image_path in images_file_paths_with_fish:\n",
    "            os.rename(image_path, f'/Users/erik/repos/ComputerVisionProject/data/fish/{image_path.split(\"/\")[-1]}')"
   ],
   "metadata": {
    "collapsed": false,
    "ExecuteTime": {
     "end_time": "2024-04-03T11:21:43.585729Z",
     "start_time": "2024-04-03T11:21:43.555691Z"
    }
   },
   "id": "d5ab66855c63d69d",
   "execution_count": 14
  },
  {
   "cell_type": "code",
   "outputs": [
    {
     "data": {
      "text/plain": "True"
     },
     "execution_count": 44,
     "metadata": {},
     "output_type": "execute_result"
    }
   ],
   "source": [
    "does_file_exist(\"/Users/erik/repos/ComputerVisionProject/data/Annotation/task_fish_detection-2024_01_28_18_07_53-cvat_for_video_1.1/annotations.xml\")"
   ],
   "metadata": {
    "collapsed": false,
    "ExecuteTime": {
     "end_time": "2024-04-03T11:14:01.446573Z",
     "start_time": "2024-04-03T11:14:01.438917Z"
    }
   },
   "id": "315c4890bc4f2183",
   "execution_count": 44
  },
  {
   "cell_type": "code",
   "outputs": [],
   "source": [],
   "metadata": {
    "collapsed": false
   },
   "id": "dc88207c5155750b"
  }
 ],
 "metadata": {
  "kernelspec": {
   "display_name": "Python 3",
   "language": "python",
   "name": "python3"
  },
  "language_info": {
   "codemirror_mode": {
    "name": "ipython",
    "version": 2
   },
   "file_extension": ".py",
   "mimetype": "text/x-python",
   "name": "python",
   "nbconvert_exporter": "python",
   "pygments_lexer": "ipython2",
   "version": "2.7.6"
  }
 },
 "nbformat": 4,
 "nbformat_minor": 5
}
